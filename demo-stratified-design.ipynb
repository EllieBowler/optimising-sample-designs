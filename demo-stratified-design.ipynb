{
 "cells": [
  {
   "cell_type": "markdown",
   "metadata": {},
   "source": [
    "# Stratified Design\n",
    "**For this design we aim to distribute sites evenly geographically, given the sampling constraints of the landscape.**\n",
    "\n",
    "In this notebook we work through an example of producing a stratified design given an input 'invalid area mask'. This mask should be a binary geotiff file, which matches the dimension and resolution of your sample landscape where:\n",
    " - Zeros represent invalid pixels\n",
    " - Ones represent valid pixels\n",
    " \n",
    "An example map ```InvalidAreasMask.tif```, and can be used to experiment with the code. "
   ]
  },
  {
   "cell_type": "markdown",
   "metadata": {},
   "source": [
    "<div class=\"alert alert-block alert-info\">\n",
    "<b>Tip:</b> To run a code cell, click in the cell and either:\n",
    "<ul>\n",
    "  <li>Click 'Run' in the top panel</li>\n",
    "  <li>OR use the keyboard shortcut 'shift' + 'enter'</li>\n",
    "</ul>\n",
    "</div>\n",
    "\n",
    "<b> Cells must be run sequentially, to ensure all variables are loaded at each stage </b>"
   ]
  },
  {
   "cell_type": "markdown",
   "metadata": {},
   "source": [
    "### Import required libraries"
   ]
  },
  {
   "cell_type": "code",
   "execution_count": 3,
   "metadata": {},
   "outputs": [],
   "source": [
    "import os\n",
    "from osgeo import gdal, osr\n",
    "import numpy as np\n",
    "from random import randint\n",
    "from scipy import ndimage\n",
    "from copy import copy\n",
    "import time\n",
    "import pandas as pd\n",
    "from matplotlib import pyplot as plt\n",
    "%matplotlib inline\n",
    "\n",
    "def get_file_info(file_path):\n",
    "    '''\n",
    "    Function which extracts a geotiff file as numpy array, and saves geographic projection information\n",
    "    input: \n",
    "        file_path: (str) Path to the file\n",
    "    output: \n",
    "        file_map: (np.array) The extracted map\n",
    "        nbins: (int) The number of categories in the map\n",
    "        res: (float) Resolution of the map in meters\n",
    "        GeoT: The geographic transform used to project the map\n",
    "        auth_code: The authority code matching the projection\n",
    "    '''\n",
    "    file_raw = gdal.Open(file_path)\n",
    "    prj_info = file_raw.GetProjection()\n",
    "    GeoT = file_raw.GetGeoTransform(); res = GeoT[1]\n",
    "    file_map = file_raw.ReadAsArray()\n",
    "    nbins = len(np.unique(file_map))\n",
    "    return file_map, nbins, res, GeoT, prj_info\n",
    "\n",
    "\n",
    "def save_coords_as_shp(self, lbl_coords, out_filename):\n",
    "\n",
    "    rstr = gdal.Open(self.pan_path, gdal.GA_ReadOnly)\n",
    "    prj_info = rstr.GetProjection()\n",
    "    GeoT = rstr.GetGeoTransform()\n",
    "\n",
    "    driver = ogr.GetDriverByName('ESRI Shapefile')\n",
    "    ds = driver.CreateDataSource(out_filename)\n",
    "\n",
    "\n",
    "    layer = ds.CreateLayer('', None, ogr.wkbPoint)\n",
    "    for coords in lbl_coords:\n",
    "\n",
    "        feature = ogr.Feature(layer.GetLayerDefn())\n",
    "\n",
    "        # Project row and column (will be for bottom left corner)\n",
    "        x_proj = coords[0] * GeoT[1] + GeoT[0] \n",
    "        y_proj = coords[1] * GeoT[5] + GeoT[3]\n",
    "\n",
    "        # Shift from bottom left to centre of the pixel\n",
    "        x_proj += GeoT[1] / 2.0\n",
    "        y_proj += GeoT[5] / 2.0 \n",
    "\n",
    "        point = ogr.Geometry(ogr.wkbPoint)\n",
    "        point.AddPoint(x_proj, y_proj)\n",
    "        feature.SetGeometry(point)\n",
    "        layer.CreateFeature(feature)\n",
    "        feature.Destroy()\n",
    "\n",
    "    ds.Destroy()\n",
    "    return     "
   ]
  },
  {
   "cell_type": "markdown",
   "metadata": {},
   "source": [
    "# User Inputs"
   ]
  },
  {
   "cell_type": "markdown",
   "metadata": {},
   "source": [
    "<div class=\"alert alert-block alert-info\">\n",
    "<b>Note:</b> Sections where users can enter their own values are highlighted with #'s. \n",
    "    \n",
    "<b>Current entries link to example files downloaded from Dropbox, which can be used for testing. </b>\n",
    "</div>"
   ]
  },
  {
   "cell_type": "markdown",
   "metadata": {},
   "source": [
    "Specify a unique name for the project as `save_folder`. A folder with your chosen name will be created in the ```results``` folder, and all outputs for the design will be saved there. E.g:"
   ]
  },
  {
   "cell_type": "code",
   "execution_count": 4,
   "metadata": {},
   "outputs": [],
   "source": [
    "######################################\n",
    "save_folder = 'Stratified_Design_Demo'\n",
    "######################################"
   ]
  },
  {
   "cell_type": "code",
   "execution_count": 5,
   "metadata": {},
   "outputs": [
    {
     "name": "stdout",
     "output_type": "stream",
     "text": [
      "Results will be saved in the folder results/Stratified_Design_Demo\n",
      "Files will start with the time stamp 2019_11_11_143020\n"
     ]
    }
   ],
   "source": [
    "directory = 'results/{}'.format(save_folder)\n",
    "if not os.path.exists(directory):\n",
    "    os.makedirs(directory)\n",
    "\n",
    "# Create unique time stamp to add to file names (to avoid overwriting)\n",
    "ts = time.gmtime()\n",
    "ts = time.strftime(\"%Y_%m_%d_%H%M%S\", ts)\n",
    "\n",
    "print('Results will be saved in the folder {}'.format(directory))\n",
    "print('Files will start with the time stamp {}'.format(ts))"
   ]
  },
  {
   "cell_type": "markdown",
   "metadata": {},
   "source": [
    "Enter name of invalid areas mask (`mask_path`). This should be in GeoTiff format. E.g:"
   ]
  },
  {
   "cell_type": "code",
   "execution_count": 6,
   "metadata": {},
   "outputs": [],
   "source": [
    "######################################\n",
    "mask_path = 'InvalidAreasMask.tif'\n",
    "######################################"
   ]
  },
  {
   "cell_type": "markdown",
   "metadata": {},
   "source": [
    "Enter an integer number of sample sites (`nsp`). E.g"
   ]
  },
  {
   "cell_type": "code",
   "execution_count": 7,
   "metadata": {},
   "outputs": [],
   "source": [
    "#########\n",
    "nsp = 25\n",
    "#########"
   ]
  },
  {
   "cell_type": "markdown",
   "metadata": {},
   "source": [
    "## Load data\n",
    "To project the final sites into longitude and latitude locations, we extract geographic information from the invalid areas mask. **If the mask is not saved as a geotiff file, then this will produce an error.**"
   ]
  },
  {
   "cell_type": "code",
   "execution_count": 8,
   "metadata": {},
   "outputs": [
    {
     "name": "stdout",
     "output_type": "stream",
     "text": [
      "Loading InvalidAreasMask.tif ...\n"
     ]
    },
    {
     "ename": "AttributeError",
     "evalue": "'NoneType' object has no attribute 'GetProjection'",
     "output_type": "error",
     "traceback": [
      "\u001b[1;31m---------------------------------------------------------------------------\u001b[0m",
      "\u001b[1;31mAttributeError\u001b[0m                            Traceback (most recent call last)",
      "\u001b[1;32m<ipython-input-8-299f9b3cd139>\u001b[0m in \u001b[0;36m<module>\u001b[1;34m\u001b[0m\n\u001b[0;32m      1\u001b[0m \u001b[0mprint\u001b[0m\u001b[1;33m(\u001b[0m\u001b[1;34m'Loading {} ...'\u001b[0m\u001b[1;33m.\u001b[0m\u001b[0mformat\u001b[0m\u001b[1;33m(\u001b[0m\u001b[0mmask_path\u001b[0m\u001b[1;33m)\u001b[0m\u001b[1;33m)\u001b[0m\u001b[1;33m\u001b[0m\u001b[1;33m\u001b[0m\u001b[0m\n\u001b[0;32m      2\u001b[0m \u001b[1;33m\u001b[0m\u001b[0m\n\u001b[1;32m----> 3\u001b[1;33m \u001b[0mmask\u001b[0m\u001b[1;33m,\u001b[0m \u001b[0mnbins\u001b[0m\u001b[1;33m,\u001b[0m \u001b[0mres\u001b[0m\u001b[1;33m,\u001b[0m \u001b[0mGeoT\u001b[0m\u001b[1;33m,\u001b[0m \u001b[0mprj_info\u001b[0m \u001b[1;33m=\u001b[0m \u001b[0mget_file_info\u001b[0m\u001b[1;33m(\u001b[0m\u001b[0mmask_path\u001b[0m\u001b[1;33m)\u001b[0m\u001b[1;33m\u001b[0m\u001b[1;33m\u001b[0m\u001b[0m\n\u001b[0m\u001b[0;32m      4\u001b[0m \u001b[1;33m\u001b[0m\u001b[0m\n\u001b[0;32m      5\u001b[0m \u001b[0mprint\u001b[0m\u001b[1;33m(\u001b[0m\u001b[1;34m'\\nNumber of categories in mask (should only be two): {}'\u001b[0m\u001b[1;33m.\u001b[0m\u001b[0mformat\u001b[0m\u001b[1;33m(\u001b[0m\u001b[0mnbins\u001b[0m\u001b[1;33m)\u001b[0m\u001b[1;33m)\u001b[0m\u001b[1;33m\u001b[0m\u001b[1;33m\u001b[0m\u001b[0m\n",
      "\u001b[1;32m<ipython-input-3-aafa31593ee9>\u001b[0m in \u001b[0;36mget_file_info\u001b[1;34m(file_path)\u001b[0m\n\u001b[0;32m     23\u001b[0m     '''\n\u001b[0;32m     24\u001b[0m     \u001b[0mfile_raw\u001b[0m \u001b[1;33m=\u001b[0m \u001b[0mgdal\u001b[0m\u001b[1;33m.\u001b[0m\u001b[0mOpen\u001b[0m\u001b[1;33m(\u001b[0m\u001b[0mfile_path\u001b[0m\u001b[1;33m)\u001b[0m\u001b[1;33m\u001b[0m\u001b[1;33m\u001b[0m\u001b[0m\n\u001b[1;32m---> 25\u001b[1;33m     \u001b[0mprj_info\u001b[0m \u001b[1;33m=\u001b[0m \u001b[0mfile_raw\u001b[0m\u001b[1;33m.\u001b[0m\u001b[0mGetProjection\u001b[0m\u001b[1;33m(\u001b[0m\u001b[1;33m)\u001b[0m\u001b[1;33m\u001b[0m\u001b[1;33m\u001b[0m\u001b[0m\n\u001b[0m\u001b[0;32m     26\u001b[0m     \u001b[0mGeoT\u001b[0m \u001b[1;33m=\u001b[0m \u001b[0mfile_raw\u001b[0m\u001b[1;33m.\u001b[0m\u001b[0mGetGeoTransform\u001b[0m\u001b[1;33m(\u001b[0m\u001b[1;33m)\u001b[0m\u001b[1;33m;\u001b[0m \u001b[0mres\u001b[0m \u001b[1;33m=\u001b[0m \u001b[0mGeoT\u001b[0m\u001b[1;33m[\u001b[0m\u001b[1;36m1\u001b[0m\u001b[1;33m]\u001b[0m\u001b[1;33m\u001b[0m\u001b[1;33m\u001b[0m\u001b[0m\n\u001b[0;32m     27\u001b[0m     \u001b[0mfile_map\u001b[0m \u001b[1;33m=\u001b[0m \u001b[0mfile_raw\u001b[0m\u001b[1;33m.\u001b[0m\u001b[0mReadAsArray\u001b[0m\u001b[1;33m(\u001b[0m\u001b[1;33m)\u001b[0m\u001b[1;33m\u001b[0m\u001b[1;33m\u001b[0m\u001b[0m\n",
      "\u001b[1;31mAttributeError\u001b[0m: 'NoneType' object has no attribute 'GetProjection'"
     ]
    }
   ],
   "source": [
    "print('Loading {} ...'.format(mask_path))\n",
    "\n",
    "mask, nbins, res, GeoT, prj_info = get_file_info(mask_path)\n",
    "\n",
    "print('\\nNumber of categories in mask (should only be two): {}'.format(nbins))\n",
    "print('Pixel resolution (m): {}'.format(res))\n",
    "print('GeoT info: {}'.format(GeoT))"
   ]
  },
  {
   "cell_type": "markdown",
   "metadata": {},
   "source": [
    "**Plot mask**: Check that invalid areas are coded as 0, and 1 for valid areas"
   ]
  },
  {
   "cell_type": "code",
   "execution_count": 28,
   "metadata": {},
   "outputs": [
    {
     "data": {
      "image/png": "[encoded data removed]",
      "text/plain": [
       "<Figure size 504x504 with 2 Axes>"
      ]
     },
     "metadata": {
      "needs_background": "light"
     },
     "output_type": "display_data"
    }
   ],
   "source": [
    "plt.figure(figsize=(7, 7))\n",
    "plt.imshow(mask, cmap=plt.cm.get_cmap('Accent_r', 2))\n",
    "plt.title('Invalid Area Mask')\n",
    "cbar = plt.colorbar()\n",
    "cbar.set_ticks([0, 1])\n",
    "cbar.set_ticklabels(['0: Invalid', '1: Valid'])\n",
    "plt.show()"
   ]
  },
  {
   "cell_type": "markdown",
   "metadata": {},
   "source": [
    "# Generate stratified design\n",
    "Now we have our inputs, we are ready to generate the design. \n",
    "\n",
    "This function iteratively places sites in the study area. We use the euclidean distance transform to calculate the furthest possible distance from other sites, within the valid regions of the landscape.  "
   ]
  },
  {
   "cell_type": "code",
   "execution_count": 29,
   "metadata": {},
   "outputs": [],
   "source": [
    "def generate_stratified_design(mask, nsp):\n",
    "    \n",
    "    # Initialise empty arrays and lists to save design\n",
    "    imheight, imwidth = mask.shape\n",
    "    dist_im = np.ones((imheight, imwidth))\n",
    "    sites = np.ones((imheight, imwidth))\n",
    "    mask_aux = copy(mask)\n",
    "    x_vals = []\n",
    "    y_vals = []\n",
    "\n",
    "    for i in range(nsp):\n",
    "        \n",
    "        print('Plotting site {}'.format(i+1))\n",
    "\n",
    "        # Make all elements of EDT map in invalid region 0\n",
    "        dist_im = dist_im * mask_aux\n",
    "\n",
    "        # Extract coords of pixels with maximum distance value\n",
    "        dist_mx = list(zip(*np.where(dist_im == dist_im.max())))\n",
    "\n",
    "        # Choose one max coord pair at random\n",
    "        idx = randint(0, len(dist_mx) - 1)\n",
    "        x, y = dist_mx[idx]\n",
    "\n",
    "        # Save x and y coords\n",
    "        x_vals = np.append(x_vals, x)\n",
    "        y_vals = np.append(y_vals, y)\n",
    "\n",
    "        # Code chosen site to be zero (a feature pixel) in site array\n",
    "        sites[x, y] = 0\n",
    "\n",
    "        # Update the euclidean distance transform\n",
    "        dist_im = ndimage.distance_transform_edt(sites)\n",
    "\n",
    "    print('Stratified sample design complete!')\n",
    "    return x_vals, y_vals"
   ]
  },
  {
   "cell_type": "markdown",
   "metadata": {},
   "source": [
    "We run this funtion to generate the row and column coordinates (x_strat, y_strat) for our sample sites."
   ]
  },
  {
   "cell_type": "code",
   "execution_count": 30,
   "metadata": {},
   "outputs": [
    {
     "name": "stdout",
     "output_type": "stream",
     "text": [
      "Plotting site 1\n",
      "Plotting site 2\n",
      "Plotting site 3\n",
      "Plotting site 4\n",
      "Plotting site 5\n",
      "Plotting site 6\n",
      "Plotting site 7\n",
      "Plotting site 8\n",
      "Plotting site 9\n",
      "Plotting site 10\n",
      "Plotting site 11\n",
      "Plotting site 12\n",
      "Plotting site 13\n",
      "Plotting site 14\n",
      "Plotting site 15\n",
      "Plotting site 16\n",
      "Plotting site 17\n",
      "Plotting site 18\n",
      "Plotting site 19\n",
      "Plotting site 20\n",
      "Plotting site 21\n",
      "Plotting site 22\n",
      "Plotting site 23\n",
      "Plotting site 24\n",
      "Plotting site 25\n",
      "Stratified sample design complete!\n"
     ]
    }
   ],
   "source": [
    "x_strat, y_strat = generate_stratified_design(mask, nsp)"
   ]
  },
  {
   "cell_type": "markdown",
   "metadata": {},
   "source": [
    "# Results"
   ]
  },
  {
   "cell_type": "markdown",
   "metadata": {},
   "source": [
    "### Plot Design\n",
    "\n",
    "We can now check how our design looks over the landscape."
   ]
  },
  {
   "cell_type": "code",
   "execution_count": 31,
   "metadata": {},
   "outputs": [
    {
     "data": {
      "image/png": "[encoded data removed]",
      "text/plain": [
       "<Figure size 504x648 with 2 Axes>"
      ]
     },
     "metadata": {
      "needs_background": "light"
     },
     "output_type": "display_data"
    }
   ],
   "source": [
    "plt.figure(figsize=(7, 9))\n",
    "plt.imshow(mask, cmap=plt.cm.get_cmap('Accent_r', 2))\n",
    "plt.title('{} design with {} sample sites'.format('Stratified', len(x_strat)))\n",
    "plt.axis('off')\n",
    "cbar = plt.colorbar(fraction=0.02, orientation='horizontal', pad=0.01)\n",
    "cbar.set_ticks([0, 1])\n",
    "cbar.set_ticklabels(['0: Invalid', '1: Valid'])\n",
    "plt.scatter(y_strat, x_strat, c='black', marker='x', linewidth=1.5, s=70)\n",
    "plt.savefig('{}/{}_{}Site_Stratified_Plot.tif'.format(directory, ts, nsp))\n",
    "plt.show()"
   ]
  },
  {
   "cell_type": "markdown",
   "metadata": {},
   "source": [
    "As we can see the Stratified Design spreads sites evenly spatially, given the constraints of the valid sample areas. "
   ]
  },
  {
   "cell_type": "markdown",
   "metadata": {},
   "source": [
    "<div class=\"alert alert-block alert-info\">\n",
    "<b>Note:</b> Try going to the top of the notebook and experimenting with different numbers of sample sites (i.e alter the nsp value).  \n",
    "</div>"
   ]
  },
  {
   "cell_type": "markdown",
   "metadata": {},
   "source": [
    "### Save the design"
   ]
  },
  {
   "cell_type": "markdown",
   "metadata": {},
   "source": [
    "The below function converts the (x, y) coordinates into longitude and latitude. Geo-information extracted from the \"invalid areas mask\" is used to transform the points to long-lat. "
   ]
  },
  {
   "cell_type": "code",
   "execution_count": 34,
   "metadata": {},
   "outputs": [],
   "source": [
    "def LongLatConvert(x, y, projection_info, GeoT):\n",
    "    \n",
    "    # Project row and column (will be for bottom left corner)\n",
    "    x_proj = x * GeoT[1] + GeoT[0] \n",
    "    y_proj = y * GeoT[5] + GeoT[3]\n",
    "    \n",
    "    # Shift from bottom left to centre of the pixel\n",
    "    x_proj += GeoT[1] / 2.0\n",
    "    y_proj += GeoT[5] / 2.0 \n",
    "    \n",
    "    xy_proj = np.stack((x_proj, y_proj), axis=-1)\n",
    "    \n",
    "    # Make spatial coordinate system\n",
    "    srs = osr.SpatialReference()\n",
    "    if srs.ImportFromWkt(projection_info) != 0:\n",
    "        print(\"Error: cannot import projection '%s'\" % projection_info)\n",
    "        sys.exit(1)\n",
    "        \n",
    "    srsLatLong = srs.CloneGeogCS()\n",
    "    ct = osr.CoordinateTransformation(srs, srsLatLong)\n",
    "    long, lat, height = list(zip(*ct.TransformPoints(xy_proj)))\n",
    "    return long, lat"
   ]
  },
  {
   "cell_type": "code",
   "execution_count": 35,
   "metadata": {},
   "outputs": [],
   "source": [
    "long, lat = LongLatConvert(x_strat, y_strat, prj_info, GeoT)"
   ]
  },
  {
   "cell_type": "markdown",
   "metadata": {},
   "source": [
    "Now we save the results to a csv file..."
   ]
  },
  {
   "cell_type": "code",
   "execution_count": 36,
   "metadata": {},
   "outputs": [
    {
     "name": "stdout",
     "output_type": "stream",
     "text": [
      "Design results saved as a csv in results/Stratified_Design_Demo directory \n",
      "File name: 2019_10_28_155211_25Site_Stratified.csv\n"
     ]
    }
   ],
   "source": [
    "# Reformat and save to csv\n",
    "result = pd.DataFrame()\n",
    "result['longitude'] = long; result['latitude'] = lat\n",
    "result['row'] = x_strat; result['col'] = y_strat\n",
    "result['sampled'] = 0\n",
    "csv_filename = '{}_{}Site_Stratified.csv'.format(ts, nsp)\n",
    "result.index += 1\n",
    "result.to_csv('{}/{}'.format(directory, csv_filename), index_label='site')\n",
    "\n",
    "print('Design results saved as a csv in {} directory \\nFile name: {}'.format(directory, csv_filename))"
   ]
  },
  {
   "cell_type": "markdown",
   "metadata": {},
   "source": [
    "### Example output:"
   ]
  },
  {
   "cell_type": "markdown",
   "metadata": {},
   "source": [
    "You should now be able to navigate to your results folder and open the csv file using your preferred software. We can load and print the first few lines of the output here as a quick check..."
   ]
  },
  {
   "cell_type": "code",
   "execution_count": 40,
   "metadata": {},
   "outputs": [],
   "source": [
    "view_csv = pd.read_csv('{}/{}'.format(directory, csv_filename))"
   ]
  },
  {
   "cell_type": "code",
   "execution_count": 41,
   "metadata": {},
   "outputs": [
    {
     "data": {
      "text/html": [
       "<div>\n",
       "<style scoped>\n",
       "    .dataframe tbody tr th:only-of-type {\n",
       "        vertical-align: middle;\n",
       "    }\n",
       "\n",
       "    .dataframe tbody tr th {\n",
       "        vertical-align: top;\n",
       "    }\n",
       "\n",
       "    .dataframe thead th {\n",
       "        text-align: right;\n",
       "    }\n",
       "</style>\n",
       "<table border=\"1\" class=\"dataframe\">\n",
       "  <thead>\n",
       "    <tr style=\"text-align: right;\">\n",
       "      <th></th>\n",
       "      <th>site</th>\n",
       "      <th>longitude</th>\n",
       "      <th>latitude</th>\n",
       "      <th>row</th>\n",
       "      <th>col</th>\n",
       "      <th>sampled</th>\n",
       "    </tr>\n",
       "  </thead>\n",
       "  <tbody>\n",
       "    <tr>\n",
       "      <th>0</th>\n",
       "      <td>1</td>\n",
       "      <td>172.510681</td>\n",
       "      <td>-42.484637</td>\n",
       "      <td>660.0</td>\n",
       "      <td>251.0</td>\n",
       "      <td>0</td>\n",
       "    </tr>\n",
       "    <tr>\n",
       "      <th>1</th>\n",
       "      <td>2</td>\n",
       "      <td>172.272434</td>\n",
       "      <td>-42.615860</td>\n",
       "      <td>0.0</td>\n",
       "      <td>726.0</td>\n",
       "      <td>0</td>\n",
       "    </tr>\n",
       "    <tr>\n",
       "      <th>2</th>\n",
       "      <td>3</td>\n",
       "      <td>172.268461</td>\n",
       "      <td>-42.419761</td>\n",
       "      <td>0.0</td>\n",
       "      <td>0.0</td>\n",
       "      <td>0</td>\n",
       "    </tr>\n",
       "    <tr>\n",
       "      <th>3</th>\n",
       "      <td>4</td>\n",
       "      <td>172.645018</td>\n",
       "      <td>-42.610305</td>\n",
       "      <td>1019.0</td>\n",
       "      <td>723.0</td>\n",
       "      <td>0</td>\n",
       "    </tr>\n",
       "    <tr>\n",
       "      <th>4</th>\n",
       "      <td>5</td>\n",
       "      <td>172.455640</td>\n",
       "      <td>-42.613678</td>\n",
       "      <td>501.0</td>\n",
       "      <td>726.0</td>\n",
       "      <td>0</td>\n",
       "    </tr>\n",
       "  </tbody>\n",
       "</table>\n",
       "</div>"
      ],
      "text/plain": [
       "   site   longitude   latitude     row    col  sampled\n",
       "0     1  172.510681 -42.484637   660.0  251.0        0\n",
       "1     2  172.272434 -42.615860     0.0  726.0        0\n",
       "2     3  172.268461 -42.419761     0.0    0.0        0\n",
       "3     4  172.645018 -42.610305  1019.0  723.0        0\n",
       "4     5  172.455640 -42.613678   501.0  726.0        0"
      ]
     },
     "execution_count": 41,
     "metadata": {},
     "output_type": "execute_result"
    }
   ],
   "source": [
    "view_csv.head()"
   ]
  },
  {
   "cell_type": "markdown",
   "metadata": {},
   "source": [
    "In our output csv, the columns consist of:\n",
    "* A **site** ID\n",
    "* The coordinates in **longitude** and **latitude**\n",
    "* The coordinates in **row** and **column** (corresponding to pixels in image)\n",
    "* A **sampled** column: This is used when generating an *adapted design*. When conducting the survey, sites which have been sampled can be tagged with a 1 in this column. **We go through an example of adapting a partially completed design in the demo-adapted-stratified.ipynb notebook**. "
   ]
  },
  {
   "cell_type": "code",
   "execution_count": null,
   "metadata": {},
   "outputs": [],
   "source": []
  }
 ],
 "metadata": {
  "kernelspec": {
   "display_name": "Python 3",
   "language": "python",
   "name": "python3"
  },
  "language_info": {
   "codemirror_mode": {
    "name": "ipython",
    "version": 3
   },
   "file_extension": ".py",
   "mimetype": "text/x-python",
   "name": "python",
   "nbconvert_exporter": "python",
   "pygments_lexer": "ipython3",
   "version": "3.6.3"
  }
 },
 "nbformat": 4,
 "nbformat_minor": 1
}
