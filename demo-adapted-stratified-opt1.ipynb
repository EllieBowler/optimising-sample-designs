{
 "cells": [
  {
   "cell_type": "markdown",
   "metadata": {},
   "source": [
    "<div class=\"alert alert-block alert-info\">\n",
    "<b>Note:</b> To run this notebook you will first need to generate a stratified design, using the <b>demo-stratified-design</b> notebook.\n",
    "</div>"
   ]
  },
  {
   "cell_type": "markdown",
   "metadata": {},
   "source": [
    "# Update Stratified Design Option 1: Manually update invalid areas mask\n",
    "**In this notebook we show how a stratified design can be adapted, based on new information gained in the field. Sites which have already been sampled are left in place, while unsampled locations will be adjusted based on the new constraints imposed by the user.**\n",
    "\n",
    "In this option the invalid areas mask should be manually updated by the user, using your preferred software (e.g ArcMap). Areas which you now know you **cannot access should be coded with zero**, all **accessible areas with ones**. This link can be used as a guide to update masks using ArcMap https://gis.stackexchange.com/questions/25120/manually-editing-raster-to-improve-classification-using-arcgis-desktop . An example updated mask is provided in the raw data folder."
   ]
  },
  {
   "cell_type": "markdown",
   "metadata": {},
   "source": [
    "### Import required libraries"
   ]
  },
  {
   "cell_type": "code",
   "execution_count": 4,
   "metadata": {},
   "outputs": [],
   "source": [
    "import os\n",
    "from osgeo import gdal, osr\n",
    "import numpy as np\n",
    "from random import randint\n",
    "from scipy import ndimage\n",
    "from copy import copy\n",
    "import time\n",
    "import pandas as pd\n",
    "from matplotlib import pyplot as plt\n",
    "%matplotlib inline\n",
    "\n",
    "def get_file_info(file_path):\n",
    "    '''\n",
    "    Function which extracts a geotiff file as numpy array, and saves geographic projection information\n",
    "    input: \n",
    "        file_path: (str) Path to the file\n",
    "    output: \n",
    "        file_map: (np.array) The extracted map\n",
    "        nbins: (int) The number of categories in the map\n",
    "        res: (float) Resolution of the map in meters\n",
    "        GeoT: The geographic transform used to project the map\n",
    "        auth_code: The authority code matching the projection\n",
    "    '''\n",
    "    file_raw = gdal.Open(file_path)\n",
    "    prj_info = file_raw.GetProjection()\n",
    "    GeoT = file_raw.GetGeoTransform(); res = GeoT[1]\n",
    "    file_map = file_raw.ReadAsArray()\n",
    "    nbins = len(np.unique(file_map))\n",
    "    return file_map, nbins, res, GeoT, prj_info"
   ]
  },
  {
   "cell_type": "markdown",
   "metadata": {},
   "source": [
    "# User Inputs"
   ]
  },
  {
   "cell_type": "markdown",
   "metadata": {},
   "source": [
    "<div class=\"alert alert-block alert-info\">\n",
    "<b>Note:</b> Sections where users can enter their own values are highlighted with #'s. \n",
    "    \n",
    "<b>Example files currently entered link to datasets in the raw data folder, which can be used for testing. </b>\n",
    "</div>"
   ]
  },
  {
   "cell_type": "markdown",
   "metadata": {},
   "source": [
    "Specify a unique name for the project as ```save_folder```. A folder with your chosen name will be created in the ```results``` directory, and all outputs for the design will be saved there. E.g:"
   ]
  },
  {
   "cell_type": "code",
   "execution_count": 5,
   "metadata": {},
   "outputs": [],
   "source": [
    "############################################\n",
    "save_folder = 'Adapted_Stratified_Demo_Opt1'\n",
    "############################################"
   ]
  },
  {
   "cell_type": "code",
   "execution_count": 6,
   "metadata": {},
   "outputs": [
    {
     "name": "stdout",
     "output_type": "stream",
     "text": [
      "Results will be saved in the folder results/Adapted_Stratified_Demo\n",
      "Files will start with the time stamp 2019_10_30_095624\n"
     ]
    }
   ],
   "source": [
    "directory = 'results/{}'.format(save_folder)\n",
    "if not os.path.exists(directory):\n",
    "    os.makedirs(directory)\n",
    "    \n",
    "# Create unique time stamp to add to file names (to avoid overwriting)\n",
    "ts = time.gmtime()\n",
    "ts = time.strftime(\"%Y_%m_%d_%H%M%S\", ts)\n",
    "\n",
    "print('Results will be saved in the folder {}'.format(directory))\n",
    "print('Files will start with the time stamp {}'.format(ts))"
   ]
  },
  {
   "cell_type": "markdown",
   "metadata": {},
   "source": [
    "Enter path to updated invalid areas mask (`updated_mask_path`). This should be in GeoTiff format and saved in the 'raw' data folder. E.g:"
   ]
  },
  {
   "cell_type": "code",
   "execution_count": 9,
   "metadata": {},
   "outputs": [],
   "source": [
    "######################################################\n",
    "updated_mask_path = 'raw/InvalidAreasMask_updated.tif'\n",
    "######################################################"
   ]
  },
  {
   "cell_type": "markdown",
   "metadata": {},
   "source": [
    "Load the .csv file output by the original stratified design. In the \"sampled\" column, **unsampled** sites should be labelled with a **zero**. Sites which have been **visited** and are known to be accessible should be tagged with a **one**. "
   ]
  },
  {
   "cell_type": "code",
   "execution_count": 10,
   "metadata": {},
   "outputs": [],
   "source": [
    "###############################################################################################\n",
    "csv_path = 'results/Stratified_Design_Demo/2019_02_25_121053_30Site_Stratified_tagged_opt1.csv'\n",
    "###############################################################################################"
   ]
  },
  {
   "cell_type": "markdown",
   "metadata": {},
   "source": [
    "## Load data"
   ]
  },
  {
   "cell_type": "markdown",
   "metadata": {},
   "source": [
    "To project the final sites into longitude and latitude, we extract geographic information from the updated invalid areas mask."
   ]
  },
  {
   "cell_type": "code",
   "execution_count": 43,
   "metadata": {},
   "outputs": [
    {
     "name": "stdout",
     "output_type": "stream",
     "text": [
      "Loading raw/InvalidAreasMask_updated.tif ...\n",
      "\n",
      "Number of categories in mask (should only be two): 2\n",
      "Pixel resolution (m): 30.0\n",
      "GeoT info: (604343.5084861958, 30.0, 0.0, 5302852.190465175, 0.0, -30.0)\n"
     ]
    }
   ],
   "source": [
    "print('Loading {} ...'.format(updated_mask_path))\n",
    "\n",
    "updated_mask, nbins, res, GeoT, prj_info = get_file_info(updated_mask_path)\n",
    "\n",
    "print('\\nNumber of categories in mask (should only be two): {}'.format(nbins))\n",
    "print('Pixel resolution (m): {}'.format(res))\n",
    "print('GeoT info: {}'.format(GeoT))"
   ]
  },
  {
   "cell_type": "markdown",
   "metadata": {},
   "source": [
    "Load the tagged csv file"
   ]
  },
  {
   "cell_type": "code",
   "execution_count": 13,
   "metadata": {},
   "outputs": [],
   "source": [
    "sampled_csv = pd.read_csv(csv_path)"
   ]
  },
  {
   "cell_type": "markdown",
   "metadata": {},
   "source": [
    "**Plot updated mask**"
   ]
  },
  {
   "cell_type": "code",
   "execution_count": 14,
   "metadata": {},
   "outputs": [
    {
     "data": {
      "image/png": "[encoded data removed]",
      "text/plain": [
       "<Figure size 504x504 with 2 Axes>"
      ]
     },
     "metadata": {
      "needs_background": "light"
     },
     "output_type": "display_data"
    }
   ],
   "source": [
    "plt.figure(figsize=(7, 7))\n",
    "plt.imshow(updated_mask, cmap=plt.cm.get_cmap('Accent_r', 2))\n",
    "plt.title('Invalid Area Mask')\n",
    "cbar = plt.colorbar()\n",
    "cbar.set_ticks([0, 1])\n",
    "cbar.set_ticklabels(['0: Invalid', '1: Valid'])\n",
    "plt.show()"
   ]
  },
  {
   "cell_type": "markdown",
   "metadata": {},
   "source": [
    "# Generate updated stratified design\n",
    "Now we have our input, we are ready to generate the design.\n",
    "\n",
    "This function keeps the sites which have already been sampled fixed, and then adjusts the location of all unsampled sites based on the new constraints. "
   ]
  },
  {
   "cell_type": "code",
   "execution_count": 15,
   "metadata": {},
   "outputs": [],
   "source": [
    "def update_stratified_design(mask, sampled_csv):\n",
    "    \n",
    "    nsp = len(sampled_csv) \n",
    "    sampled_df = sampled_csv.loc[sampled_csv['sampled']==1]\n",
    "    nsampled = len(sampled_df)\n",
    "    print('{} sites already sampled and will not be moved'.format(nsampled))\n",
    "    print('{} sites to be adjusted based on mask update'.format(nsp-nsampled))\n",
    "    \n",
    "    imheight, imwidth = mask.shape\n",
    "    sampled_x = sampled_df['row'].values\n",
    "    sampled_y = sampled_df['col'].values\n",
    "\n",
    "    sites = np.ones((imheight, imwidth))\n",
    "    sites[sampled_x, sampled_y] = 0\n",
    "    mask_aux = copy(mask)\n",
    "    x_vals = [sampled_x]\n",
    "    y_vals = [sampled_y]\n",
    "\n",
    "    for i in range(nsp - nsampled):\n",
    "        \n",
    "        print('Plotting site {} of {}'.format(i+1, nsp-nsampled))\n",
    "\n",
    "        # Generate EDT image of all sampled/selected sites\n",
    "        dist_im = ndimage.distance_transform_edt(sites) * mask\n",
    "        \n",
    "        # Extract coordinates with the maximum distance value\n",
    "        dist_mx = list(zip(*np.where(dist_im == dist_im.max())))\n",
    "        \n",
    "        # Choose one maximum coord pair at random\n",
    "        idx = randint(0, len(dist_mx) - 1)\n",
    "        x, y = dist_mx[idx]\n",
    "\n",
    "        # Make all elements of EDT map in invalid region 0\n",
    "        dist_im = dist_im * mask_aux\n",
    "        \n",
    "        # Extract coords of pixels with maximum distance value\n",
    "        dist_mx = list(zip(*np.where(dist_im == dist_im.max())))\n",
    "\n",
    "        # Choose one max coord pair at random\n",
    "        idx = randint(0, len(dist_mx) - 1)\n",
    "        x, y = dist_mx[idx]\n",
    "\n",
    "        # Save x and y coords\n",
    "        x_vals = np.append(x_vals, x)\n",
    "        y_vals = np.append(y_vals, y)\n",
    "\n",
    "        # Code chosen site to be zero (a feature pixel) in site array\n",
    "        sites[x, y] = 0\n",
    "        \n",
    "    print('Adapted stratified design complete!')\n",
    "    return x_vals, y_vals"
   ]
  },
  {
   "cell_type": "markdown",
   "metadata": {},
   "source": [
    "Generate the design"
   ]
  },
  {
   "cell_type": "code",
   "execution_count": 16,
   "metadata": {},
   "outputs": [
    {
     "name": "stdout",
     "output_type": "stream",
     "text": [
      "9 sites already sampled and will not be moved\n",
      "21 sites to be adjusted based on mask update\n",
      "Plotting site 1 of 21\n",
      "Plotting site 2 of 21\n",
      "Plotting site 3 of 21\n",
      "Plotting site 4 of 21\n",
      "Plotting site 5 of 21\n",
      "Plotting site 6 of 21\n",
      "Plotting site 7 of 21\n",
      "Plotting site 8 of 21\n",
      "Plotting site 9 of 21\n",
      "Plotting site 10 of 21\n",
      "Plotting site 11 of 21\n",
      "Plotting site 12 of 21\n",
      "Plotting site 13 of 21\n",
      "Plotting site 14 of 21\n",
      "Plotting site 15 of 21\n",
      "Plotting site 16 of 21\n",
      "Plotting site 17 of 21\n",
      "Plotting site 18 of 21\n",
      "Plotting site 19 of 21\n",
      "Plotting site 20 of 21\n",
      "Plotting site 21 of 21\n",
      "Adapted stratified design complete!\n"
     ]
    }
   ],
   "source": [
    "x_adpt, y_adpt = update_stratified_design(updated_mask, sampled_csv)"
   ]
  },
  {
   "cell_type": "markdown",
   "metadata": {},
   "source": [
    "## Results"
   ]
  },
  {
   "cell_type": "markdown",
   "metadata": {},
   "source": [
    "**Plot Design**\n",
    "\n",
    "We can now check how our design looks over the landscape."
   ]
  },
  {
   "cell_type": "code",
   "execution_count": 25,
   "metadata": {},
   "outputs": [
    {
     "data": {
      "image/png": "[encoded data removed]",
      "text/plain": [
       "<Figure size 504x648 with 2 Axes>"
      ]
     },
     "metadata": {
      "needs_background": "light"
     },
     "output_type": "display_data"
    }
   ],
   "source": [
    "plt.figure(figsize=(7, 9))\n",
    "plt.imshow(updated_mask, cmap=plt.cm.get_cmap('Accent_r', 2))\n",
    "plt.title('{} design with {} sample sites'.format('Adapted Stratified Design', len(x_adpt)))\n",
    "plt.axis('off')\n",
    "cbar = plt.colorbar(fraction=0.02, orientation='horizontal', pad=0.01)\n",
    "cbar.set_ticks([0, 1])\n",
    "cbar.set_ticklabels(['0: Invalid', '1: Valid'])\n",
    "nsampled = sum(sampled_csv.sampled)\n",
    "nsp = len(sampled_csv)\n",
    "plt.scatter(y_adpt[:nsampled], x_adpt[:nsampled], c='black', marker='x', linewidth=1.5, s=70)\n",
    "plt.scatter(y_adpt[nsampled:], x_adpt[nsampled:], c='red', marker='x', linewidth=1.5, s=70)\n",
    "plt.savefig('{}/{}_{}Site_Adapted_Stratified_Plot.tif'.format(directory, ts, nsp))\n",
    "plt.show()"
   ]
  },
  {
   "cell_type": "markdown",
   "metadata": {},
   "source": [
    "Black crosses represent sites which have already been visited, while red show the sites which have been moved based on the new mask constraints."
   ]
  },
  {
   "cell_type": "markdown",
   "metadata": {},
   "source": [
    "### Save the design"
   ]
  },
  {
   "cell_type": "code",
   "execution_count": 26,
   "metadata": {},
   "outputs": [],
   "source": [
    "def LongLatConvert(x, y, projection_info, GeoT):\n",
    "    \n",
    "    # Project row and column (will be for bottom left corner)\n",
    "    x_proj = x * GeoT[1] + GeoT[0] \n",
    "    y_proj = y * GeoT[5] + GeoT[3]\n",
    "    \n",
    "    # Shift from bottom left to centre of the pixel\n",
    "    x_proj += GeoT[1] / 2.0\n",
    "    y_proj += GeoT[5] / 2.0 \n",
    "    \n",
    "    xy_proj = np.stack((x_proj, y_proj), axis=-1)\n",
    "    \n",
    "    # Make spatial coordinate system\n",
    "    srs = osr.SpatialReference()\n",
    "    if srs.ImportFromWkt(projection_info) != 0:\n",
    "        print(\"Error: cannot import projection '%s'\" % projection_info)\n",
    "        sys.exit(1)\n",
    "        \n",
    "    srsLatLong = srs.CloneGeogCS()\n",
    "    ct = osr.CoordinateTransformation(srs, srsLatLong)\n",
    "    long, lat, height = list(zip(*ct.TransformPoints(xy_proj)))\n",
    "    return long, lat"
   ]
  },
  {
   "cell_type": "code",
   "execution_count": 27,
   "metadata": {},
   "outputs": [],
   "source": [
    "long, lat = LongLatConvert(x_adpt, y_adpt, prj_info, GeoT)"
   ]
  },
  {
   "cell_type": "markdown",
   "metadata": {},
   "source": [
    "Now save the results to a csv file..."
   ]
  },
  {
   "cell_type": "code",
   "execution_count": 39,
   "metadata": {},
   "outputs": [
    {
     "name": "stdout",
     "output_type": "stream",
     "text": [
      "Design results saved as a csv in results/Adapted_Stratified_Demo directory \n",
      "File name: 2019_10_30_095624_30Site_Adapted_Stratified.csv\n"
     ]
    }
   ],
   "source": [
    "# Record the sites which have already been sampled\n",
    "nsp = len(sampled_csv)\n",
    "nsampled = sum(sampled_csv.sampled)\n",
    "\n",
    "# Reformat and save to csv\n",
    "result = pd.DataFrame()\n",
    "result['longitude'] = long; result['latitude'] = lat\n",
    "result['row'] = x_adpt; result['col'] = y_adpt\n",
    "result['sampled'] = [1]*nsampled + [0]*(nsp-nsampled)\n",
    "result.index += 1\n",
    "csv_filename = '{}_{}Site_Adapted_Stratified.csv'.format(ts, nsp)\n",
    "result.to_csv('{}/{}'.format(directory, csv_filename), index_label='site')\n",
    "\n",
    "print('Design results saved as a csv in {} directory \\nFile name: {}'.format(directory, csv_filename))"
   ]
  },
  {
   "cell_type": "markdown",
   "metadata": {},
   "source": [
    "### Example output\n",
    "You should now be able to navigate to the results folder (specified above) and open the csv using your preferred software. We can load and print the csv here as a quick check."
   ]
  },
  {
   "cell_type": "code",
   "execution_count": 40,
   "metadata": {},
   "outputs": [],
   "source": [
    "view_csv = pd.read_csv('{}/{}'.format(directory, csv_filename))"
   ]
  },
  {
   "cell_type": "code",
   "execution_count": 41,
   "metadata": {},
   "outputs": [
    {
     "data": {
      "text/html": [
       "<div>\n",
       "<style scoped>\n",
       "    .dataframe tbody tr th:only-of-type {\n",
       "        vertical-align: middle;\n",
       "    }\n",
       "\n",
       "    .dataframe tbody tr th {\n",
       "        vertical-align: top;\n",
       "    }\n",
       "\n",
       "    .dataframe thead th {\n",
       "        text-align: right;\n",
       "    }\n",
       "</style>\n",
       "<table border=\"1\" class=\"dataframe\">\n",
       "  <thead>\n",
       "    <tr style=\"text-align: right;\">\n",
       "      <th></th>\n",
       "      <th>site</th>\n",
       "      <th>longitude</th>\n",
       "      <th>latitude</th>\n",
       "      <th>row</th>\n",
       "      <th>col</th>\n",
       "      <th>sampled</th>\n",
       "    </tr>\n",
       "  </thead>\n",
       "  <tbody>\n",
       "    <tr>\n",
       "      <th>0</th>\n",
       "      <td>1</td>\n",
       "      <td>172.575026</td>\n",
       "      <td>-42.517812</td>\n",
       "      <td>834</td>\n",
       "      <td>377</td>\n",
       "      <td>1</td>\n",
       "    </tr>\n",
       "    <tr>\n",
       "      <th>1</th>\n",
       "      <td>2</td>\n",
       "      <td>172.268461</td>\n",
       "      <td>-42.419761</td>\n",
       "      <td>0</td>\n",
       "      <td>0</td>\n",
       "      <td>1</td>\n",
       "    </tr>\n",
       "    <tr>\n",
       "      <th>2</th>\n",
       "      <td>3</td>\n",
       "      <td>172.336065</td>\n",
       "      <td>-42.615136</td>\n",
       "      <td>174</td>\n",
       "      <td>726</td>\n",
       "      <td>1</td>\n",
       "    </tr>\n",
       "    <tr>\n",
       "      <th>3</th>\n",
       "      <td>4</td>\n",
       "      <td>172.447568</td>\n",
       "      <td>-42.422772</td>\n",
       "      <td>491</td>\n",
       "      <td>19</td>\n",
       "      <td>1</td>\n",
       "    </tr>\n",
       "    <tr>\n",
       "      <th>4</th>\n",
       "      <td>5</td>\n",
       "      <td>172.638446</td>\n",
       "      <td>-42.415069</td>\n",
       "      <td>1015</td>\n",
       "      <td>0</td>\n",
       "      <td>1</td>\n",
       "    </tr>\n",
       "    <tr>\n",
       "      <th>5</th>\n",
       "      <td>6</td>\n",
       "      <td>172.273458</td>\n",
       "      <td>-42.486438</td>\n",
       "      <td>10</td>\n",
       "      <td>247</td>\n",
       "      <td>1</td>\n",
       "    </tr>\n",
       "    <tr>\n",
       "      <th>6</th>\n",
       "      <td>7</td>\n",
       "      <td>172.643392</td>\n",
       "      <td>-42.478758</td>\n",
       "      <td>1024</td>\n",
       "      <td>236</td>\n",
       "      <td>1</td>\n",
       "    </tr>\n",
       "    <tr>\n",
       "      <th>7</th>\n",
       "      <td>8</td>\n",
       "      <td>172.272357</td>\n",
       "      <td>-42.612079</td>\n",
       "      <td>0</td>\n",
       "      <td>712</td>\n",
       "      <td>1</td>\n",
       "    </tr>\n",
       "    <tr>\n",
       "      <th>8</th>\n",
       "      <td>9</td>\n",
       "      <td>172.407246</td>\n",
       "      <td>-42.445969</td>\n",
       "      <td>379</td>\n",
       "      <td>103</td>\n",
       "      <td>1</td>\n",
       "    </tr>\n",
       "    <tr>\n",
       "      <th>9</th>\n",
       "      <td>10</td>\n",
       "      <td>172.494765</td>\n",
       "      <td>-42.613175</td>\n",
       "      <td>608</td>\n",
       "      <td>726</td>\n",
       "      <td>0</td>\n",
       "    </tr>\n",
       "    <tr>\n",
       "      <th>10</th>\n",
       "      <td>11</td>\n",
       "      <td>172.645018</td>\n",
       "      <td>-42.610305</td>\n",
       "      <td>1019</td>\n",
       "      <td>723</td>\n",
       "      <td>0</td>\n",
       "    </tr>\n",
       "    <tr>\n",
       "      <th>11</th>\n",
       "      <td>12</td>\n",
       "      <td>172.418827</td>\n",
       "      <td>-42.538764</td>\n",
       "      <td>405</td>\n",
       "      <td>447</td>\n",
       "      <td>0</td>\n",
       "    </tr>\n",
       "    <tr>\n",
       "      <th>12</th>\n",
       "      <td>13</td>\n",
       "      <td>172.545802</td>\n",
       "      <td>-42.443373</td>\n",
       "      <td>759</td>\n",
       "      <td>100</td>\n",
       "      <td>0</td>\n",
       "    </tr>\n",
       "    <tr>\n",
       "      <th>13</th>\n",
       "      <td>14</td>\n",
       "      <td>172.318540</td>\n",
       "      <td>-42.547257</td>\n",
       "      <td>130</td>\n",
       "      <td>474</td>\n",
       "      <td>0</td>\n",
       "    </tr>\n",
       "    <tr>\n",
       "      <th>14</th>\n",
       "      <td>15</td>\n",
       "      <td>172.485336</td>\n",
       "      <td>-42.493344</td>\n",
       "      <td>590</td>\n",
       "      <td>282</td>\n",
       "      <td>0</td>\n",
       "    </tr>\n",
       "    <tr>\n",
       "      <th>15</th>\n",
       "      <td>16</td>\n",
       "      <td>172.568583</td>\n",
       "      <td>-42.581389</td>\n",
       "      <td>812</td>\n",
       "      <td>612</td>\n",
       "      <td>0</td>\n",
       "    </tr>\n",
       "    <tr>\n",
       "      <th>16</th>\n",
       "      <td>17</td>\n",
       "      <td>172.645247</td>\n",
       "      <td>-42.549515</td>\n",
       "      <td>1024</td>\n",
       "      <td>498</td>\n",
       "      <td>0</td>\n",
       "    </tr>\n",
       "    <tr>\n",
       "      <th>17</th>\n",
       "      <td>18</td>\n",
       "      <td>172.354996</td>\n",
       "      <td>-42.492798</td>\n",
       "      <td>233</td>\n",
       "      <td>274</td>\n",
       "      <td>0</td>\n",
       "    </tr>\n",
       "    <tr>\n",
       "      <th>18</th>\n",
       "      <td>19</td>\n",
       "      <td>172.415081</td>\n",
       "      <td>-42.599328</td>\n",
       "      <td>391</td>\n",
       "      <td>671</td>\n",
       "      <td>0</td>\n",
       "    </tr>\n",
       "    <tr>\n",
       "      <th>19</th>\n",
       "      <td>20</td>\n",
       "      <td>172.497704</td>\n",
       "      <td>-42.552619</td>\n",
       "      <td>620</td>\n",
       "      <td>502</td>\n",
       "      <td>0</td>\n",
       "    </tr>\n",
       "    <tr>\n",
       "      <th>20</th>\n",
       "      <td>21</td>\n",
       "      <td>172.342830</td>\n",
       "      <td>-42.418914</td>\n",
       "      <td>204</td>\n",
       "      <td>0</td>\n",
       "      <td>0</td>\n",
       "    </tr>\n",
       "    <tr>\n",
       "      <th>21</th>\n",
       "      <td>22</td>\n",
       "      <td>172.417770</td>\n",
       "      <td>-42.492038</td>\n",
       "      <td>405</td>\n",
       "      <td>274</td>\n",
       "      <td>0</td>\n",
       "    </tr>\n",
       "    <tr>\n",
       "      <th>22</th>\n",
       "      <td>23</td>\n",
       "      <td>172.372333</td>\n",
       "      <td>-42.567698</td>\n",
       "      <td>276</td>\n",
       "      <td>552</td>\n",
       "      <td>0</td>\n",
       "    </tr>\n",
       "    <tr>\n",
       "      <th>23</th>\n",
       "      <td>24</td>\n",
       "      <td>172.318503</td>\n",
       "      <td>-42.458641</td>\n",
       "      <td>135</td>\n",
       "      <td>146</td>\n",
       "      <td>0</td>\n",
       "    </tr>\n",
       "    <tr>\n",
       "      <th>24</th>\n",
       "      <td>25</td>\n",
       "      <td>172.602838</td>\n",
       "      <td>-42.448533</td>\n",
       "      <td>915</td>\n",
       "      <td>122</td>\n",
       "      <td>0</td>\n",
       "    </tr>\n",
       "    <tr>\n",
       "      <th>25</th>\n",
       "      <td>26</td>\n",
       "      <td>172.489811</td>\n",
       "      <td>-42.451139</td>\n",
       "      <td>605</td>\n",
       "      <td>126</td>\n",
       "      <td>0</td>\n",
       "    </tr>\n",
       "    <tr>\n",
       "      <th>26</th>\n",
       "      <td>27</td>\n",
       "      <td>172.271506</td>\n",
       "      <td>-42.570212</td>\n",
       "      <td>0</td>\n",
       "      <td>557</td>\n",
       "      <td>0</td>\n",
       "    </tr>\n",
       "    <tr>\n",
       "      <th>27</th>\n",
       "      <td>28</td>\n",
       "      <td>172.270635</td>\n",
       "      <td>-42.527265</td>\n",
       "      <td>0</td>\n",
       "      <td>398</td>\n",
       "      <td>0</td>\n",
       "    </tr>\n",
       "    <tr>\n",
       "      <th>28</th>\n",
       "      <td>29</td>\n",
       "      <td>172.538805</td>\n",
       "      <td>-42.485343</td>\n",
       "      <td>737</td>\n",
       "      <td>255</td>\n",
       "      <td>0</td>\n",
       "    </tr>\n",
       "    <tr>\n",
       "      <th>29</th>\n",
       "      <td>30</td>\n",
       "      <td>172.462579</td>\n",
       "      <td>-42.581981</td>\n",
       "      <td>522</td>\n",
       "      <td>609</td>\n",
       "      <td>0</td>\n",
       "    </tr>\n",
       "  </tbody>\n",
       "</table>\n",
       "</div>"
      ],
      "text/plain": [
       "    site   longitude   latitude   row  col  sampled\n",
       "0      1  172.575026 -42.517812   834  377        1\n",
       "1      2  172.268461 -42.419761     0    0        1\n",
       "2      3  172.336065 -42.615136   174  726        1\n",
       "3      4  172.447568 -42.422772   491   19        1\n",
       "4      5  172.638446 -42.415069  1015    0        1\n",
       "5      6  172.273458 -42.486438    10  247        1\n",
       "6      7  172.643392 -42.478758  1024  236        1\n",
       "7      8  172.272357 -42.612079     0  712        1\n",
       "8      9  172.407246 -42.445969   379  103        1\n",
       "9     10  172.494765 -42.613175   608  726        0\n",
       "10    11  172.645018 -42.610305  1019  723        0\n",
       "11    12  172.418827 -42.538764   405  447        0\n",
       "12    13  172.545802 -42.443373   759  100        0\n",
       "13    14  172.318540 -42.547257   130  474        0\n",
       "14    15  172.485336 -42.493344   590  282        0\n",
       "15    16  172.568583 -42.581389   812  612        0\n",
       "16    17  172.645247 -42.549515  1024  498        0\n",
       "17    18  172.354996 -42.492798   233  274        0\n",
       "18    19  172.415081 -42.599328   391  671        0\n",
       "19    20  172.497704 -42.552619   620  502        0\n",
       "20    21  172.342830 -42.418914   204    0        0\n",
       "21    22  172.417770 -42.492038   405  274        0\n",
       "22    23  172.372333 -42.567698   276  552        0\n",
       "23    24  172.318503 -42.458641   135  146        0\n",
       "24    25  172.602838 -42.448533   915  122        0\n",
       "25    26  172.489811 -42.451139   605  126        0\n",
       "26    27  172.271506 -42.570212     0  557        0\n",
       "27    28  172.270635 -42.527265     0  398        0\n",
       "28    29  172.538805 -42.485343   737  255        0\n",
       "29    30  172.462579 -42.581981   522  609        0"
      ]
     },
     "execution_count": 41,
     "metadata": {},
     "output_type": "execute_result"
    }
   ],
   "source": [
    "view_csv"
   ]
  },
  {
   "cell_type": "markdown",
   "metadata": {},
   "source": [
    "In our output csv, the columns consist of:\n",
    "* A **site** ID\n",
    "* The coordinates in **longitude** and **latitude**\n",
    "* The coordinates in **row** and **column** (corresponding to pixels in image)\n",
    "* The **sampled** column: There should be ones in the sites which have already been sampled, and zeros in all the sites which have been adjusted based on the new constraints.  "
   ]
  },
  {
   "cell_type": "code",
   "execution_count": null,
   "metadata": {},
   "outputs": [],
   "source": []
  }
 ],
 "metadata": {
  "kernelspec": {
   "display_name": "Python 3",
   "language": "python",
   "name": "python3"
  },
  "language_info": {
   "codemirror_mode": {
    "name": "ipython",
    "version": 3
   },
   "file_extension": ".py",
   "mimetype": "text/x-python",
   "name": "python",
   "nbconvert_exporter": "python",
   "pygments_lexer": "ipython3",
   "version": "3.7.3"
  }
 },
 "nbformat": 4,
 "nbformat_minor": 1
}
