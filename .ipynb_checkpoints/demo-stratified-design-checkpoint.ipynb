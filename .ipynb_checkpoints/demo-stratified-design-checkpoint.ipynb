{
 "cells": [
  {
   "cell_type": "markdown",
   "metadata": {},
   "source": [
    "# Stratified Design\n",
    "**For this design we aim to distribute sites evenly geographically, given the sampling constraints of the landscape.**\n",
    "\n",
    "In this notebook we work through an example of producing a stratified design given an input 'invalid area mask'. This mask should be a binary geotiff file, which matches the dimension and resolution of your sample landscape where:\n",
    " - Zeros represent invalid pixels\n",
    " - Ones represent valid pixels\n",
    " \n",
    "An example map ```InvalidAreasMask.tif```, and can be used to experiment with the code. "
   ]
  },
  {
   "cell_type": "markdown",
   "metadata": {},
   "source": [
    "<div class=\"alert alert-block alert-info\">\n",
    "<b>Tip:</b> To run a code cell, click in the cell and either:\n",
    "<ul>\n",
    "  <li>Click 'Run' in the top panel</li>\n",
    "  <li>OR use the keyboard shortcut 'shift' + 'enter'</li>\n",
    "</ul>\n",
    "</div>\n",
    "\n",
    "<b> Cells must be run sequentially, to ensure all variables are loaded at each stage </b>"
   ]
  },
  {
   "cell_type": "markdown",
   "metadata": {},
   "source": [
    "### Import required libraries"
   ]
  },
  {
   "cell_type": "code",
   "execution_count": 8,
   "metadata": {},
   "outputs": [],
   "source": [
    "import os\n",
    "from osgeo import gdal, osr, ogr\n",
    "import numpy as np\n",
    "from random import randint\n",
    "from scipy import ndimage\n",
    "from copy import copy\n",
    "import time\n",
    "import pandas as pd\n",
    "from matplotlib import pyplot as plt\n",
    "%matplotlib inline\n",
    "\n",
    "def get_file_info(file_path):\n",
    "    \"\"\"\n",
    "    Function which extracts a geo tiff file as numpy array, and saves geographic projection information\n",
    "    INPUTS:\n",
    "        file_path: (str) Path to the file\n",
    "    OUTPUTS:\n",
    "        file_map: (np.array) The extracted map\n",
    "        n_bins: (int) The number of categories in the map\n",
    "        res: (float) Resolution of the map in meters\n",
    "        geo_t: (list) The geographic transform used to project the map\n",
    "    \"\"\"\n",
    "    file_raw = gdal.Open(file_path)\n",
    "    prj_info = file_raw.GetProjection()\n",
    "    geo_t = file_raw.GetGeoTransform()\n",
    "    res = geo_t[1]\n",
    "    file_map = file_raw.ReadAsArray()\n",
    "    n_bins = len(np.unique(file_map))\n",
    "    return file_map, n_bins, res, geo_t, prj_info\n",
    "\n",
    "def save_as_shp(x, y, geo_t, out_filename):\n",
    "    \"\"\"\n",
    "    Export sample site locations to shape file, to be read into software like ArcMap\n",
    "    INPUTS:\n",
    "        x: (list) x coordinates of sample sites\n",
    "        y: (list) y coordinates of sample sites\n",
    "        geo_t: (list) geographic transformation values extracted from geo-tiff\n",
    "        out_filename: (str) path and name of the output shape file\n",
    "    OUTPUTS:\n",
    "        Saves .shp file in the directory specified by out_filename\n",
    "    \"\"\"\n",
    "    # Create the ESRI shape file\n",
    "    driver = ogr.GetDriverByName('ESRI Shapefile')\n",
    "    ds = driver.CreateDataSource(out_filename)\n",
    "\n",
    "    layer = ds.CreateLayer('', None, ogr.wkbPoint)\n",
    "    for i in range(len(x)):\n",
    "        feature = ogr.Feature(layer.GetLayerDefn())\n",
    "\n",
    "        # Project row and column (will be for bottom left corner)\n",
    "        x_proj = y[i] * geo_t[1] + geo_t[0]\n",
    "        y_proj = x[i] * geo_t[5] + geo_t[3]\n",
    "\n",
    "        # Shift from bottom left to centre of the pixel\n",
    "        x_proj += geo_t[1] / 2.0\n",
    "        y_proj += geo_t[5] / 2.0\n",
    "\n",
    "        # Add each point to new geometry\n",
    "        point = ogr.Geometry(ogr.wkbPoint)\n",
    "        point.AddPoint(x_proj, y_proj)\n",
    "        feature.SetGeometry(point)\n",
    "        layer.CreateFeature(feature)\n",
    "        feature.Destroy()\n",
    "\n",
    "    # Delete driver once finished\n",
    "    ds.Destroy()\n",
    "    return  "
   ]
  },
  {
   "cell_type": "markdown",
   "metadata": {},
   "source": [
    "# User Inputs"
   ]
  },
  {
   "cell_type": "markdown",
   "metadata": {},
   "source": [
    "<div class=\"alert alert-block alert-info\">\n",
    "<b>Note:</b> Sections where users can enter their own values are highlighted with #'s. \n",
    "    \n",
    "<b>Current entries link to example files downloaded from Dropbox, which can be used for testing. </b>\n",
    "</div>"
   ]
  },
  {
   "cell_type": "markdown",
   "metadata": {},
   "source": [
    "Specify a unique name for the project as `save_path`. A folder with your chosen name will be created in the ```results``` folder, and all outputs for the design will be saved there. E.g:"
   ]
  },
  {
   "cell_type": "code",
   "execution_count": 18,
   "metadata": {},
   "outputs": [],
   "source": [
    "######################################\n",
    "save_path = 'Stratified_Design_Demo'\n",
    "######################################"
   ]
  },
  {
   "cell_type": "code",
   "execution_count": 19,
   "metadata": {},
   "outputs": [
    {
     "name": "stdout",
     "output_type": "stream",
     "text": [
      "Results will be saved in the folder results/Stratified_Design_Demo\n"
     ]
    }
   ],
   "source": [
    "directory = 'results/{}'.format(save_path)\n",
    "if not os.path.exists(directory):\n",
    "    os.makedirs(directory)\n",
    "\n",
    "print('Results will be saved in the folder {}'.format(directory))"
   ]
  },
  {
   "cell_type": "markdown",
   "metadata": {},
   "source": [
    "Enter name of invalid areas mask (`mask_path`). This should be in GeoTiff format. E.g:"
   ]
  },
  {
   "cell_type": "code",
   "execution_count": 23,
   "metadata": {},
   "outputs": [],
   "source": [
    "######################################\n",
    "mask_path = 'InvalidAreasMask.tif'\n",
    "######################################"
   ]
  },
  {
   "cell_type": "markdown",
   "metadata": {},
   "source": [
    "Enter an integer number of sample sites (`nsp`). E.g"
   ]
  },
  {
   "cell_type": "code",
   "execution_count": 24,
   "metadata": {},
   "outputs": [],
   "source": [
    "#########\n",
    "nsp = 25\n",
    "#########"
   ]
  },
  {
   "cell_type": "markdown",
   "metadata": {},
   "source": [
    "## Load data\n",
    "To project the final sites into longitude and latitude locations, we extract geographic information from the invalid areas mask. **If the mask is not saved as a geotiff file, then this will produce an error.**"
   ]
  },
  {
   "cell_type": "code",
   "execution_count": 25,
   "metadata": {},
   "outputs": [
    {
     "name": "stdout",
     "output_type": "stream",
     "text": [
      "Loading raw/InvalidAreasMask.tif ...\n",
      "\n",
      "Number of categories in mask (should only be two): 2\n",
      "Pixel resolution (m): 30.0\n",
      "GeoT info: (604343.5084861958, 30.0, 0.0, 5302852.190465175, 0.0, -30.0)\n"
     ]
    }
   ],
   "source": [
    "print('Loading {} ...'.format(mask_path))\n",
    "\n",
    "mask, nbins, res, geo_t, prj_info = get_file_info(mask_path)\n",
    "\n",
    "print('\\nNumber of categories in mask (should only be two): {}'.format(nbins))\n",
    "print('Pixel resolution (m): {}'.format(res))\n",
    "print('GeoT info: {}'.format(geo_t))"
   ]
  },
  {
   "cell_type": "markdown",
   "metadata": {},
   "source": [
    "**Plot mask**: Check that invalid areas are coded as 0, and 1 for valid areas"
   ]
  },
  {
   "cell_type": "code",
   "execution_count": 26,
   "metadata": {},
   "outputs": [
    {
     "data": {
      "image/png": "[encoded data removed]",
      "text/plain": [
       "<matplotlib.figure.Figure at 0x1d7d4b6be48>"
      ]
     },
     "metadata": {},
     "output_type": "display_data"
    }
   ],
   "source": [
    "plt.figure(figsize=(7, 7))\n",
    "plt.imshow(mask, cmap=plt.cm.get_cmap('Accent_r', 2))\n",
    "plt.title('Invalid Area Mask')\n",
    "cbar = plt.colorbar()\n",
    "cbar.set_ticks([0, 1])\n",
    "cbar.set_ticklabels(['0: Invalid', '1: Valid'])\n",
    "plt.show()"
   ]
  },
  {
   "cell_type": "markdown",
   "metadata": {},
   "source": [
    "# Generate stratified design\n",
    "Now we have our inputs, we are ready to generate the design. \n",
    "\n",
    "This function iteratively places sites in the study area. We use the euclidean distance transform to calculate the furthest possible distance from other sites, within the valid regions of the landscape.  "
   ]
  },
  {
   "cell_type": "code",
   "execution_count": 27,
   "metadata": {},
   "outputs": [],
   "source": [
    "def generate_stratified_design(mask, nsp):\n",
    "    \"\"\"\n",
    "    Main function for generating a stratified design.\n",
    "    Places sites iteratively at the maximum distance apart, spacing them evenly in the landscape.\n",
    "    INPUTS:\n",
    "        mask: (.npy array) The invalid areas mask\n",
    "        nsp: (int) Number of sample sites in design\n",
    "    OUTPUTS:\n",
    "        x_vals: (list) x coordinates of sample sites\n",
    "        y_vals: (list) y coordinates of sample sites\n",
    "    \"\"\"\n",
    "\n",
    "    # Initialise empty arrays and lists to save design\n",
    "    imheight, imwidth = mask.shape\n",
    "    dist_im = np.ones((imheight, imwidth))\n",
    "    sites = np.ones((imheight, imwidth))\n",
    "    mask_aux = copy(mask)\n",
    "    x_vals = []\n",
    "    y_vals = []\n",
    "\n",
    "    for i in range(nsp):\n",
    "        print('Plotting site {}'.format(i + 1))\n",
    "\n",
    "        # Make all elements of EDT map in invalid region 0\n",
    "        dist_im = dist_im * mask_aux\n",
    "\n",
    "        # Extract coordinates of pixels with maximum distance value\n",
    "        dist_mx = list(zip(*np.where(dist_im == dist_im.max())))\n",
    "\n",
    "        # Choose one max coord pair at random\n",
    "        idx = randint(0, len(dist_mx) - 1)\n",
    "        x, y = dist_mx[idx]\n",
    "\n",
    "        # Save x and y coordinates\n",
    "        x_vals = np.append(x_vals, x)\n",
    "        y_vals = np.append(y_vals, y)\n",
    "\n",
    "        # Code chosen site to be zero in site array\n",
    "        sites[x, y] = 0\n",
    "\n",
    "        # Update the euclidean distance transform\n",
    "        dist_im = ndimage.distance_transform_edt(sites)\n",
    "\n",
    "    print('Stratified sample design complete!')\n",
    "    return x_vals, y_vals\n"
   ]
  },
  {
   "cell_type": "markdown",
   "metadata": {},
   "source": [
    "We run this funtion to generate the row and column coordinates (x_strat, y_strat) for our sample sites."
   ]
  },
  {
   "cell_type": "code",
   "execution_count": 28,
   "metadata": {},
   "outputs": [
    {
     "name": "stdout",
     "output_type": "stream",
     "text": [
      "Plotting site 1\n",
      "Plotting site 2\n",
      "Plotting site 3\n",
      "Plotting site 4\n",
      "Plotting site 5\n",
      "Plotting site 6\n",
      "Plotting site 7\n",
      "Plotting site 8\n",
      "Plotting site 9\n",
      "Plotting site 10\n",
      "Plotting site 11\n",
      "Plotting site 12\n",
      "Plotting site 13\n",
      "Plotting site 14\n",
      "Plotting site 15\n",
      "Plotting site 16\n",
      "Plotting site 17\n",
      "Plotting site 18\n",
      "Plotting site 19\n",
      "Plotting site 20\n",
      "Plotting site 21\n",
      "Plotting site 22\n",
      "Plotting site 23\n",
      "Plotting site 24\n",
      "Plotting site 25\n",
      "Stratified sample design complete!\n"
     ]
    }
   ],
   "source": [
    "x_strat, y_strat = generate_stratified_design(mask, nsp)"
   ]
  },
  {
   "cell_type": "markdown",
   "metadata": {},
   "source": [
    "# Results"
   ]
  },
  {
   "cell_type": "markdown",
   "metadata": {},
   "source": [
    "### Plot Design\n",
    "\n",
    "We can now check how our design looks over the landscape."
   ]
  },
  {
   "cell_type": "code",
   "execution_count": 29,
   "metadata": {},
   "outputs": [
    {
     "data": {
      "image/png": "[encoded data removed]",
      "text/plain": [
       "<matplotlib.figure.Figure at 0x1d7d4b5fe10>"
      ]
     },
     "metadata": {},
     "output_type": "display_data"
    }
   ],
   "source": [
    "plt.figure(figsize=(7, 9))\n",
    "plt.imshow(mask, cmap=plt.cm.get_cmap('Accent_r', 2))\n",
    "plt.title('{} design with {} sample sites'.format('Stratified', len(x_strat)))\n",
    "plt.axis('off')\n",
    "cbar = plt.colorbar(fraction=0.02, orientation='horizontal', pad=0.01)\n",
    "cbar.set_ticks([0, 1])\n",
    "cbar.set_ticklabels(['0: Invalid', '1: Valid'])\n",
    "plt.scatter(y_strat, x_strat, c='black', marker='x', linewidth=1.5, s=70)\n",
    "plt.show()"
   ]
  },
  {
   "cell_type": "markdown",
   "metadata": {},
   "source": [
    "As we can see the Stratified Design spreads sites evenly spatially, given the constraints of the valid sample areas. "
   ]
  },
  {
   "cell_type": "markdown",
   "metadata": {},
   "source": [
    "<div class=\"alert alert-block alert-info\">\n",
    "<b>Note:</b> Try going to the top of the notebook and experimenting with different numbers of sample sites (i.e alter the nsp value).  \n",
    "</div>"
   ]
  },
  {
   "cell_type": "markdown",
   "metadata": {},
   "source": [
    "### Save the design\n",
    "The below function converts the (x, y) coordinates into longitude and latitude. Geo-information extracted from the \"invalid areas mask\" is used to transform the points to long-lat."
   ]
  },
  {
   "cell_type": "code",
   "execution_count": 48,
   "metadata": {},
   "outputs": [],
   "source": [
    "def lat_long_convert(x, y, prj_info, geo_t):\n",
    "    \"\"\"\n",
    "    Convert x, y coordinates to longitude and latitude, using projection info contained in the geo-tiff\n",
    "    INPUTS:\n",
    "        x: (list) x coordinates of sample sites\n",
    "        y: (list) y coordinates of sample sites\n",
    "        prj_info: (string) projection information extracted from geo-tiff\n",
    "        geo_t: (list) geographic transformation values extracted from geo-tiff\n",
    "    OUTPUTS:\n",
    "        long: (list) longitude values of sample sites\n",
    "        lat: (list) latitude values of sample sites\n",
    "    \"\"\"\n",
    "    # Project row and column (will be for bottom left corner)\n",
    "    x_proj = x * geo_t[1] + geo_t[0]\n",
    "    y_proj = y * geo_t[5] + geo_t[3]\n",
    "\n",
    "    # Shift from bottom left to centre of the pixel\n",
    "    x_proj += geo_t[1] / 2.0\n",
    "    y_proj += geo_t[5] / 2.0\n",
    "\n",
    "    xy_proj = np.stack((x_proj, y_proj), axis=-1)\n",
    "\n",
    "    # Make spatial coordinate system\n",
    "    srs = osr.SpatialReference()\n",
    "    if srs.ImportFromWkt(prj_info) != 0:\n",
    "        print(\"Error: cannot import projection '%s'\" % prj_info)\n",
    "        sys.exit(1)\n",
    "\n",
    "    srs_lat_long = srs.CloneGeogCS()\n",
    "    ct = osr.CoordinateTransformation(srs, srs_lat_long)\n",
    "    long, lat, height = list(zip(*ct.TransformPoints(xy_proj)))\n",
    "    return long, lat\n",
    "\n",
    "def save_stratified(x, y, prj_info, geo_t, save_path, sampled_csv=None):\n",
    "    \"\"\"\n",
    "    Function to output final sample design to .csv and ESRI .shp file\n",
    "    INPUTS:\n",
    "        x: (list) x coordinates of sample sites\n",
    "        y: (list) y coordinates of sample sites\n",
    "        prj_info: (string) projection information extracted from geo-tiff\n",
    "        geo_t: (list) geographic transformation values extracted from geo-tiff\n",
    "        save_path: (str) path specifying where to save the .csv and .shp files\n",
    "        sampled_csv: (data frame) only entered if updating a design, else None\n",
    "    OUTPUTS:\n",
    "        Saves .csv in the directory specified by save_path\n",
    "    \"\"\"\n",
    "    # Generate unique time stamp to avoid overwriting results\n",
    "    ts = time.gmtime()\n",
    "    ts = time.strftime(\"%Y_%m_%d_%H%M%S\", ts)\n",
    "    \n",
    "    if not os.path.exists('{}/{}'.format(save_path, ts)):\n",
    "        os.makedirs('{}/{}'.format(save_path, ts))\n",
    "\n",
    "    # Convert from row/col to projected\n",
    "    long, lat = lat_long_convert(x, y, prj_info, geo_t)\n",
    "\n",
    "    # Make data frame using pandas\n",
    "    result = pd.DataFrame()\n",
    "    result['longitude'] = long\n",
    "    result['latitude'] = lat\n",
    "    result['row'] = x\n",
    "    result['col'] = y\n",
    "    result['sampled'] = 0\n",
    "    csv_filename = '{}site_strat'.format(len(x))\n",
    "\n",
    "    # For adapted designs add info to the sampled column\n",
    "    if sampled_csv is not None:\n",
    "        num_sampled = sum(sampled_csv.sampled)\n",
    "        result['sampled'] = [1] * num_sampled + [0] * (len(x) - num_sampled)\n",
    "        csv_filename = '{}site_strat_adapted'.format(ts, len(x))\n",
    "\n",
    "    # Write to csv and shape files\n",
    "    result.index += 1\n",
    "    result.to_csv('{}/{}/{}.csv'.format(save_path, ts, csv_filename), index_label='site')\n",
    "    save_as_shp(x, y, geo_t, '{}/{}/{}.shp'.format(save_path, ts, csv_filename))\n",
    "    print('Design saved as .csv and .shp in {}/{} directory \\nFile name: {}'.format(save_path, ts, csv_filename))\n",
    "    return '{}/{}/{}'.format(directory, ts, csv_filename)"
   ]
  },
  {
   "cell_type": "code",
   "execution_count": 47,
   "metadata": {},
   "outputs": [
    {
     "name": "stdout",
     "output_type": "stream",
     "text": [
      "Design saved as .csv and .shp in results/Stratified_Design_Demo/2020_02_19_132722 directory \n",
      "File name: 25site_strat\n"
     ]
    }
   ],
   "source": [
    "csv_filename = save_stratified(x_strat, y_strat, prj_info, geo_t, directory)"
   ]
  },
  {
   "cell_type": "markdown",
   "metadata": {},
   "source": [
    "### Example output:\n",
    "You should now be able to navigate to your results folder and open the csv file using your preferred software. We can load and print the first few lines of the output here as a quick check..."
   ]
  },
  {
   "cell_type": "code",
   "execution_count": 43,
   "metadata": {},
   "outputs": [],
   "source": [
    "view_csv = pd.read_csv('{}.csv'.format(csv_filename))"
   ]
  },
  {
   "cell_type": "code",
   "execution_count": 44,
   "metadata": {},
   "outputs": [
    {
     "data": {
      "text/html": [
       "<div>\n",
       "<style>\n",
       "    .dataframe thead tr:only-child th {\n",
       "        text-align: right;\n",
       "    }\n",
       "\n",
       "    .dataframe thead th {\n",
       "        text-align: left;\n",
       "    }\n",
       "\n",
       "    .dataframe tbody tr th {\n",
       "        vertical-align: top;\n",
       "    }\n",
       "</style>\n",
       "<table border=\"1\" class=\"dataframe\">\n",
       "  <thead>\n",
       "    <tr style=\"text-align: right;\">\n",
       "      <th></th>\n",
       "      <th>site</th>\n",
       "      <th>longitude</th>\n",
       "      <th>latitude</th>\n",
       "      <th>row</th>\n",
       "      <th>col</th>\n",
       "      <th>sampled</th>\n",
       "    </tr>\n",
       "  </thead>\n",
       "  <tbody>\n",
       "    <tr>\n",
       "      <th>0</th>\n",
       "      <td>1</td>\n",
       "      <td>172.633277</td>\n",
       "      <td>-42.538879</td>\n",
       "      <td>992.0</td>\n",
       "      <td>458.0</td>\n",
       "      <td>0</td>\n",
       "    </tr>\n",
       "    <tr>\n",
       "      <th>1</th>\n",
       "      <td>2</td>\n",
       "      <td>172.268461</td>\n",
       "      <td>-42.419761</td>\n",
       "      <td>0.0</td>\n",
       "      <td>0.0</td>\n",
       "      <td>0</td>\n",
       "    </tr>\n",
       "    <tr>\n",
       "      <th>2</th>\n",
       "      <td>3</td>\n",
       "      <td>172.369708</td>\n",
       "      <td>-42.614738</td>\n",
       "      <td>266.0</td>\n",
       "      <td>726.0</td>\n",
       "      <td>0</td>\n",
       "    </tr>\n",
       "    <tr>\n",
       "      <th>3</th>\n",
       "      <td>4</td>\n",
       "      <td>172.494837</td>\n",
       "      <td>-42.417032</td>\n",
       "      <td>621.0</td>\n",
       "      <td>0.0</td>\n",
       "      <td>0</td>\n",
       "    </tr>\n",
       "    <tr>\n",
       "      <th>4</th>\n",
       "      <td>5</td>\n",
       "      <td>172.383242</td>\n",
       "      <td>-42.498944</td>\n",
       "      <td>310.0</td>\n",
       "      <td>298.0</td>\n",
       "      <td>0</td>\n",
       "    </tr>\n",
       "    <tr>\n",
       "      <th>5</th>\n",
       "      <td>6</td>\n",
       "      <td>172.520726</td>\n",
       "      <td>-42.612833</td>\n",
       "      <td>679.0</td>\n",
       "      <td>726.0</td>\n",
       "      <td>0</td>\n",
       "    </tr>\n",
       "    <tr>\n",
       "      <th>6</th>\n",
       "      <td>7</td>\n",
       "      <td>172.641350</td>\n",
       "      <td>-42.428536</td>\n",
       "      <td>1022.0</td>\n",
       "      <td>50.0</td>\n",
       "      <td>0</td>\n",
       "    </tr>\n",
       "    <tr>\n",
       "      <th>7</th>\n",
       "      <td>8</td>\n",
       "      <td>172.272927</td>\n",
       "      <td>-42.550204</td>\n",
       "      <td>5.0</td>\n",
       "      <td>483.0</td>\n",
       "      <td>0</td>\n",
       "    </tr>\n",
       "    <tr>\n",
       "      <th>8</th>\n",
       "      <td>9</td>\n",
       "      <td>172.508893</td>\n",
       "      <td>-42.516540</td>\n",
       "      <td>653.0</td>\n",
       "      <td>369.0</td>\n",
       "      <td>0</td>\n",
       "    </tr>\n",
       "    <tr>\n",
       "      <th>9</th>\n",
       "      <td>10</td>\n",
       "      <td>172.377461</td>\n",
       "      <td>-42.418503</td>\n",
       "      <td>299.0</td>\n",
       "      <td>0.0</td>\n",
       "      <td>0</td>\n",
       "    </tr>\n",
       "  </tbody>\n",
       "</table>\n",
       "</div>"
      ],
      "text/plain": [
       "   site   longitude   latitude     row    col  sampled\n",
       "0     1  172.633277 -42.538879   992.0  458.0        0\n",
       "1     2  172.268461 -42.419761     0.0    0.0        0\n",
       "2     3  172.369708 -42.614738   266.0  726.0        0\n",
       "3     4  172.494837 -42.417032   621.0    0.0        0\n",
       "4     5  172.383242 -42.498944   310.0  298.0        0\n",
       "5     6  172.520726 -42.612833   679.0  726.0        0\n",
       "6     7  172.641350 -42.428536  1022.0   50.0        0\n",
       "7     8  172.272927 -42.550204     5.0  483.0        0\n",
       "8     9  172.508893 -42.516540   653.0  369.0        0\n",
       "9    10  172.377461 -42.418503   299.0    0.0        0"
      ]
     },
     "execution_count": 44,
     "metadata": {},
     "output_type": "execute_result"
    }
   ],
   "source": [
    "view_csv[:10]"
   ]
  },
  {
   "cell_type": "markdown",
   "metadata": {},
   "source": [
    "In our output csv, the columns consist of:\n",
    "* A **site** ID\n",
    "* The coordinates in **longitude** and **latitude**\n",
    "* The coordinates in **row** and **column** (corresponding to pixels in image)\n",
    "* A **sampled** column: This is used when generating an *adapted design*. When conducting the survey, sites which have been sampled can be tagged with a 1 in this column. **We go through an example of adapting a partially completed design in the demo-adapted-stratified.ipynb notebook**. "
   ]
  }
 ],
 "metadata": {
  "kernelspec": {
   "display_name": "Python 3",
   "language": "python",
   "name": "python3"
  },
  "language_info": {
   "codemirror_mode": {
    "name": "ipython",
    "version": 3
   },
   "file_extension": ".py",
   "mimetype": "text/x-python",
   "name": "python",
   "nbconvert_exporter": "python",
   "pygments_lexer": "ipython3",
   "version": "3.6.3"
  }
 },
 "nbformat": 4,
 "nbformat_minor": 1
}
