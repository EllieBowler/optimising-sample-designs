{
 "cells": [
  {
   "cell_type": "markdown",
   "metadata": {},
   "source": [
    "### Import required libraries"
   ]
  },
  {
   "cell_type": "code",
   "execution_count": 77,
   "metadata": {},
   "outputs": [],
   "source": [
    "import os\n",
    "from osgeo import gdal, osr\n",
    "import pyproj as pyproj\n",
    "import numpy as np\n",
    "from random import randint\n",
    "from scipy import ndimage\n",
    "from copy import copy\n",
    "import time\n",
    "import pandas as pd\n",
    "from matplotlib import pyplot as plt\n",
    "%matplotlib inline"
   ]
  },
  {
   "cell_type": "markdown",
   "metadata": {},
   "source": [
    "### Configuration parameters: Enter own values"
   ]
  },
  {
   "cell_type": "markdown",
   "metadata": {},
   "source": [
    "Specify a unique name for the project as `save_folder`. A folder with your chosen name will be created in the results folder, and all outputs for the design will be saved there. E.g:"
   ]
  },
  {
   "cell_type": "code",
   "execution_count": 78,
   "metadata": {},
   "outputs": [],
   "source": [
    "save_folder = 'Stratified_Design_Demo'"
   ]
  },
  {
   "cell_type": "markdown",
   "metadata": {},
   "source": [
    "Enter path to invalid areas mask (`mask_path`). This should be in GeoTiff format and saved in the 'raw' data folder. E.g:"
   ]
  },
  {
   "cell_type": "code",
   "execution_count": 79,
   "metadata": {},
   "outputs": [],
   "source": [
    "mask_path = 'raw/InvalidAreasMask.tif'"
   ]
  },
  {
   "cell_type": "markdown",
   "metadata": {},
   "source": [
    "Enter an integer number of sample sites (`nsp`). E.g"
   ]
  },
  {
   "cell_type": "code",
   "execution_count": 80,
   "metadata": {},
   "outputs": [],
   "source": [
    "nsp = 30"
   ]
  },
  {
   "cell_type": "markdown",
   "metadata": {},
   "source": [
    "### Load data"
   ]
  },
  {
   "cell_type": "code",
   "execution_count": 81,
   "metadata": {},
   "outputs": [],
   "source": [
    "def get_file_info(file_path):\n",
    "    file_raw = gdal.Open(file_path)\n",
    "    prj = file_raw.GetProjection(); srs = osr.SpatialReference(wkt=prj)\n",
    "    auth_code = srs.GetAuthorityCode(None)\n",
    "    GeoT = file_raw.GetGeoTransform(); res = GeoT[1]\n",
    "    file_map = file_raw.ReadAsArray()\n",
    "    nbins = len(np.unique(file_map))\n",
    "    return file_map, nbins, res, GeoT, auth_code"
   ]
  },
  {
   "cell_type": "code",
   "execution_count": 82,
   "metadata": {},
   "outputs": [
    {
     "name": "stdout",
     "output_type": "stream",
     "text": [
      "Loading raw/InvalidAreasMask.tif ...\n",
      "\n",
      "Number of categories in mask (should only be two): 2\n",
      "Pixel resolution (m): 30.0\n",
      "GeoT info: (604343.5084861958, 30.0, 0.0, 5302852.190465175, 0.0, -30.0)\n",
      "Authority code: 32759\n"
     ]
    }
   ],
   "source": [
    "print('Loading {} ...'.format(mask_path))\n",
    "\n",
    "mask, nbins, res, GeoT, auth_code = get_file_info(mask_path)\n",
    "\n",
    "print('\\nNumber of categories in mask (should only be two): {}'.format(nbins))\n",
    "print('Pixel resolution (m): {}'.format(res))\n",
    "print('GeoT info: {}'.format(GeoT))\n",
    "print('Authority code: {}'.format(auth_code))"
   ]
  },
  {
   "cell_type": "markdown",
   "metadata": {},
   "source": [
    "**Plot mask**: Check that invalid areas are coded as 0, and 1 for valid areas"
   ]
  },
  {
   "cell_type": "code",
   "execution_count": 83,
   "metadata": {},
   "outputs": [
    {
     "data": {
      "image/png": "[encoded data removed]",
      "text/plain": [
       "<matplotlib.figure.Figure at 0x1cc1fca88d0>"
      ]
     },
     "metadata": {},
     "output_type": "display_data"
    }
   ],
   "source": [
    "plt.figure(figsize=(7, 7))\n",
    "plt.imshow(mask, cmap=plt.cm.get_cmap('Accent_r', 2))\n",
    "plt.title('Invalid Area Mask')\n",
    "cbar = plt.colorbar()\n",
    "cbar.set_ticks([0, 1])\n",
    "cbar.set_ticklabels(['0: Invalid', '1: Valid'])\n",
    "plt.show()"
   ]
  },
  {
   "cell_type": "markdown",
   "metadata": {},
   "source": [
    "## Generate stratified design"
   ]
  },
  {
   "cell_type": "code",
   "execution_count": 84,
   "metadata": {},
   "outputs": [],
   "source": [
    "def generate_stratified_design(mask, nsp):\n",
    "    \n",
    "    # Initialise empty arrays and lists to save design\n",
    "    imheight, imwidth = mask.shape\n",
    "    dist_im = np.ones((imheight, imwidth))\n",
    "    sites = np.ones((imheight, imwidth))\n",
    "    mask_aux = copy(mask)\n",
    "    x_vals = []\n",
    "    y_vals = []\n",
    "\n",
    "    for i in range(nsp):\n",
    "        \n",
    "        print('Plotting site {}'.format(i+1))\n",
    "\n",
    "        # Make all elements of EDT map in invalid region 0\n",
    "        dist_im = dist_im * mask_aux\n",
    "\n",
    "        # Extract coords of pixels with maximum distance value\n",
    "        dist_mx = list(zip(*np.where(dist_im == dist_im.max())))\n",
    "\n",
    "        # Choose one max coord pair at random\n",
    "        idx = randint(0, len(dist_mx) - 1)\n",
    "        x, y = dist_mx[idx]\n",
    "\n",
    "        # Save x and y coords\n",
    "        x_vals = np.append(x_vals, x)\n",
    "        y_vals = np.append(y_vals, y)\n",
    "\n",
    "        # Code chosen site to be zero (a feature pixel) in site array\n",
    "        sites[x, y] = 0\n",
    "\n",
    "        # Update the euclidean distance transform\n",
    "        dist_im = ndimage.distance_transform_edt(sites)\n",
    "\n",
    "    print('Stratified sample design complete!')\n",
    "    return x_vals, y_vals"
   ]
  },
  {
   "cell_type": "code",
   "execution_count": 85,
   "metadata": {},
   "outputs": [
    {
     "name": "stdout",
     "output_type": "stream",
     "text": [
      "Plotting site 1\n",
      "Plotting site 2\n",
      "Plotting site 3\n",
      "Plotting site 4\n",
      "Plotting site 5\n",
      "Plotting site 6\n",
      "Plotting site 7\n",
      "Plotting site 8\n",
      "Plotting site 9\n",
      "Plotting site 10\n",
      "Plotting site 11\n",
      "Plotting site 12\n",
      "Plotting site 13\n",
      "Plotting site 14\n",
      "Plotting site 15\n",
      "Plotting site 16\n",
      "Plotting site 17\n",
      "Plotting site 18\n",
      "Plotting site 19\n",
      "Plotting site 20\n",
      "Plotting site 21\n",
      "Plotting site 22\n",
      "Plotting site 23\n",
      "Plotting site 24\n",
      "Plotting site 25\n",
      "Plotting site 26\n",
      "Plotting site 27\n",
      "Plotting site 28\n",
      "Plotting site 29\n",
      "Plotting site 30\n",
      "Stratified sample design complete!\n"
     ]
    }
   ],
   "source": [
    "x_strat, y_strat = generate_stratified_design(mask, nsp)"
   ]
  },
  {
   "cell_type": "markdown",
   "metadata": {},
   "source": [
    "# Results"
   ]
  },
  {
   "cell_type": "markdown",
   "metadata": {},
   "source": [
    "Generate results folder for given project (if the folder already exists it will not overwrite, additional results will just be added to the existing folder)"
   ]
  },
  {
   "cell_type": "code",
   "execution_count": 86,
   "metadata": {},
   "outputs": [
    {
     "name": "stdout",
     "output_type": "stream",
     "text": [
      "Results will be saved in the folder results/Stratified_Design_Demo\n",
      "Files will start with the time stamp 2019_02_25_121053\n"
     ]
    }
   ],
   "source": [
    "directory = 'results/{}'.format(save_folder)\n",
    "if not os.path.exists(directory):\n",
    "    os.makedirs(directory)\n",
    "\n",
    "# Create unique time stamp to add to file names (to avoid overwriting)\n",
    "ts = time.gmtime()\n",
    "ts = time.strftime(\"%Y_%m_%d_%H%M%S\", ts)\n",
    "\n",
    "print('Results will be saved in the folder {}'.format(directory))\n",
    "print('Files will start with the time stamp {}'.format(ts))"
   ]
  },
  {
   "cell_type": "markdown",
   "metadata": {},
   "source": [
    "### Plot Design"
   ]
  },
  {
   "cell_type": "code",
   "execution_count": 87,
   "metadata": {},
   "outputs": [
    {
     "data": {
      "image/png": "[encoded data removed]",
      "text/plain": [
       "<matplotlib.figure.Figure at 0x1cc1fae60f0>"
      ]
     },
     "metadata": {},
     "output_type": "display_data"
    }
   ],
   "source": [
    "plt.figure(figsize=(7, 9))\n",
    "plt.imshow(mask, cmap=plt.cm.get_cmap('Accent_r', 2))\n",
    "plt.title('{} design with {} sample sites'.format('Stratified', len(x_strat)))\n",
    "plt.axis('off')\n",
    "cbar = plt.colorbar(fraction=0.02, orientation='horizontal', pad=0.01)\n",
    "cbar.set_ticks([0, 1])\n",
    "cbar.set_ticklabels(['0: Invalid', '1: Valid'])\n",
    "plt.scatter(y_strat, x_strat, c='black', marker='x', linewidth=2)\n",
    "plt.savefig('{}/{}_{}Site_Stratified_Plot.tif'.format(directory, ts, nsp))\n",
    "plt.show()"
   ]
  },
  {
   "cell_type": "markdown",
   "metadata": {},
   "source": [
    "The Stratified Design Algorithm (SDA) produces a layout where sites are spread evenly spatially, given the constraints of the valid sample areas. "
   ]
  },
  {
   "cell_type": "markdown",
   "metadata": {},
   "source": [
    "### Save the design"
   ]
  },
  {
   "cell_type": "markdown",
   "metadata": {},
   "source": [
    "The below function converts the (x, y) coordinates specifying pixels in the image to longitude and latitude coordinates. Geo-information extracted from the input \"invalid areas mask\" is used to tranfrom the point to long-lat. "
   ]
  },
  {
   "cell_type": "code",
   "execution_count": 88,
   "metadata": {},
   "outputs": [],
   "source": [
    "def LongLatConvert(x, y, GeoT, auth_code):\n",
    "    x_proj = x * GeoT[1] + GeoT[0] + (GeoT[1] / 2)\n",
    "    y_proj = y * GeoT[5] + GeoT[3] + (GeoT[5] / 2)\n",
    "    p1 = pyproj.Proj(init='EPSG:'+auth_code)\n",
    "    longlat = p1(x_proj, y_proj, inverse=True)\n",
    "    return longlat"
   ]
  },
  {
   "cell_type": "code",
   "execution_count": 89,
   "metadata": {},
   "outputs": [],
   "source": [
    "# Convert from row/col to projected\n",
    "longlat = LongLatConvert(x_strat, y_strat, GeoT, auth_code)"
   ]
  },
  {
   "cell_type": "markdown",
   "metadata": {},
   "source": [
    "Save the coordinates in a csv file..."
   ]
  },
  {
   "cell_type": "code",
   "execution_count": 90,
   "metadata": {},
   "outputs": [
    {
     "name": "stdout",
     "output_type": "stream",
     "text": [
      "Design results saved as a csv in results/Stratified_Design_Demo directory \n",
      "File name: 2019_02_25_121053_30Site_Stratified.csv\n"
     ]
    }
   ],
   "source": [
    "# Reformat and save to csv\n",
    "result = pd.DataFrame(list(zip(*longlat)), columns = ['longitude','latitude'])\n",
    "result.index += 1; result['row'] = x_strat; result['col'] = y_strat\n",
    "result['sampled'] = np.array([0]*nsp)\n",
    "csv_filename = '{}_{}Site_Stratified.csv'.format(ts, nsp)\n",
    "result.to_csv('{}/{}'.format(directory, csv_filename), index_label='site')\n",
    "print('Design results saved as a csv in {} directory \\nFile name: {}'.format(directory, csv_filename))"
   ]
  },
  {
   "cell_type": "markdown",
   "metadata": {},
   "source": [
    "### Example output:"
   ]
  },
  {
   "cell_type": "markdown",
   "metadata": {},
   "source": [
    "Print the first few lines of the csv file..."
   ]
  },
  {
   "cell_type": "code",
   "execution_count": 96,
   "metadata": {},
   "outputs": [],
   "source": [
    "view_csv = pd.read_csv('{}/{}'.format(directory, csv_filename))"
   ]
  },
  {
   "cell_type": "code",
   "execution_count": 97,
   "metadata": {},
   "outputs": [
    {
     "data": {
      "text/html": [
       "<div>\n",
       "<style>\n",
       "    .dataframe thead tr:only-child th {\n",
       "        text-align: right;\n",
       "    }\n",
       "\n",
       "    .dataframe thead th {\n",
       "        text-align: left;\n",
       "    }\n",
       "\n",
       "    .dataframe tbody tr th {\n",
       "        vertical-align: top;\n",
       "    }\n",
       "</style>\n",
       "<table border=\"1\" class=\"dataframe\">\n",
       "  <thead>\n",
       "    <tr style=\"text-align: right;\">\n",
       "      <th></th>\n",
       "      <th>site</th>\n",
       "      <th>longitude</th>\n",
       "      <th>latitude</th>\n",
       "      <th>row</th>\n",
       "      <th>col</th>\n",
       "      <th>sampled</th>\n",
       "    </tr>\n",
       "  </thead>\n",
       "  <tbody>\n",
       "    <tr>\n",
       "      <th>0</th>\n",
       "      <td>1</td>\n",
       "      <td>172.575026</td>\n",
       "      <td>-42.517812</td>\n",
       "      <td>834.0</td>\n",
       "      <td>377.0</td>\n",
       "      <td>0</td>\n",
       "    </tr>\n",
       "    <tr>\n",
       "      <th>1</th>\n",
       "      <td>2</td>\n",
       "      <td>172.268461</td>\n",
       "      <td>-42.419761</td>\n",
       "      <td>0.0</td>\n",
       "      <td>0.0</td>\n",
       "      <td>0</td>\n",
       "    </tr>\n",
       "    <tr>\n",
       "      <th>2</th>\n",
       "      <td>3</td>\n",
       "      <td>172.336065</td>\n",
       "      <td>-42.615136</td>\n",
       "      <td>174.0</td>\n",
       "      <td>726.0</td>\n",
       "      <td>0</td>\n",
       "    </tr>\n",
       "    <tr>\n",
       "      <th>3</th>\n",
       "      <td>4</td>\n",
       "      <td>172.447568</td>\n",
       "      <td>-42.422772</td>\n",
       "      <td>491.0</td>\n",
       "      <td>19.0</td>\n",
       "      <td>0</td>\n",
       "    </tr>\n",
       "    <tr>\n",
       "      <th>4</th>\n",
       "      <td>5</td>\n",
       "      <td>172.638446</td>\n",
       "      <td>-42.415069</td>\n",
       "      <td>1015.0</td>\n",
       "      <td>0.0</td>\n",
       "      <td>0</td>\n",
       "    </tr>\n",
       "  </tbody>\n",
       "</table>\n",
       "</div>"
      ],
      "text/plain": [
       "   site   longitude   latitude     row    col  sampled\n",
       "0     1  172.575026 -42.517812   834.0  377.0        0\n",
       "1     2  172.268461 -42.419761     0.0    0.0        0\n",
       "2     3  172.336065 -42.615136   174.0  726.0        0\n",
       "3     4  172.447568 -42.422772   491.0   19.0        0\n",
       "4     5  172.638446 -42.415069  1015.0    0.0        0"
      ]
     },
     "execution_count": 97,
     "metadata": {},
     "output_type": "execute_result"
    }
   ],
   "source": [
    "view_csv.head()"
   ]
  },
  {
   "cell_type": "markdown",
   "metadata": {},
   "source": [
    "Columns consist of:\n",
    "* A **site** ID\n",
    "* The coordinates in **longitude** and **latitude**\n",
    "* The coordinates in **row** and **column** (corresponding to pixels in image)\n",
    "* A **sampled** column: This is used when generating an *adapted design*. When conducting the survey sites which have been sampled can be tagged with a 1 in this column. Unsampled sites remain tagged with a 0. **For example see demo_adapted_stratified notebook**. "
   ]
  },
  {
   "cell_type": "code",
   "execution_count": null,
   "metadata": {},
   "outputs": [],
   "source": []
  }
 ],
 "metadata": {
  "kernelspec": {
   "display_name": "Python 3",
   "language": "python",
   "name": "python3"
  },
  "language_info": {
   "codemirror_mode": {
    "name": "ipython",
    "version": 3
   },
   "file_extension": ".py",
   "mimetype": "text/x-python",
   "name": "python",
   "nbconvert_exporter": "python",
   "pygments_lexer": "ipython3",
   "version": "3.6.3"
  }
 },
 "nbformat": 4,
 "nbformat_minor": 1
}
